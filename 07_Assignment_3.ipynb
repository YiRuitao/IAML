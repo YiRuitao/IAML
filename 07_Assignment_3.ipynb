{
 "cells": [
  {
   "cell_type": "markdown",
   "metadata": {},
   "source": [
    "# Introductory applied machine learning (INFR10069)"
   ]
  },
  {
   "cell_type": "markdown",
   "metadata": {},
   "source": [
    "# Assignment 3: Object recognition"
   ]
  },
  {
   "cell_type": "markdown",
   "metadata": {},
   "source": [
    "## Marking Breakdown\n",
    "\n",
    "**70-100%** results/answer correct plus extra achievement at understanding or analysis of results. Clear explanations, evidence of creative or deeper thought will contribute to a higher grade.\n",
    "\n",
    "**60-69%** results/answer correct or nearly correct and well explained.\n",
    "\n",
    "**50-59%** results/answer in right direction but significant errors.\n",
    "\n",
    "**40-49%** some evidence that the student has gained some understanding, but not answered the questions\n",
    "properly.\n",
    "\n",
    "**0-39%** serious error or slack work."
   ]
  },
  {
   "cell_type": "markdown",
   "metadata": {},
   "source": [
    "## Mechanics\n",
    "\n",
    "Fill out this notebook, save it, and submit it **and a `.txt` file** (see Part 2) in answer to this assignment.\n",
    "**You need to submit these two files electronically as described below.**\n",
    "\n",
    "On a DICE environment, open the terminal, navigate to the location of this notebook, and submit this notebook file using the following command:\n",
    "\n",
    "`submit iaml cw2 07_Assignment_3.ipynb assignment_3_predictions.txt`\n",
    "\n",
    "What actually happens in the background is that your file is placed in a folder available to markers. If you submit a file with the same name into the same location, **it will *overwrite* your previous submission**. You can check the status of your submissions with the `show_submissions` command.\n",
    "\n",
    "**Distance Learners:** To copy your work up to DICE (such that you can use the `submit` command) you can use `scp` or `rsync` (you may need to install these yourself). You can copy files up using `student.ssh.inf.ed.ac.uk`, then ssh in to submit, e.g. (in a unix terminal):\n",
    "```\n",
    "filename1=07_Assignment_3.ipynb\n",
    "local_scp_filepath1=~/git/iaml2017/${filename1}\n",
    "filename2=assignment_3_predictions.txt\n",
    "local_scp_filepath2=~/git/iaml2017/${filename2}\n",
    "UUN=s0816700\n",
    "server_address=student.ssh.inf.ed.ac.uk\n",
    "scp -r ${local_scp_filepath1} ${UUN}@${server_address}:${filename1}\n",
    "scp -r ${local_scp_filepath2} ${UUN}@${server_address}:${filename2}\n",
    "# rsync -rl ${local_scp_filepath1} ${UUN}@${server_address}:${filename1}\n",
    "# rsync -rl ${local_scp_filepath2} ${UUN}@${server_address}:${filename2}\n",
    "ssh ${UUN}@${server_address}\n",
    "ssh student.login\n",
    "submit iaml cw2 07_Assignment_3.ipynb assignment_3_predictions.txt\n",
    "```\n",
    "\n",
    "**Late submissions:** The policy stated in the School of Informatics MSc Degree Guide is that normally you will not be allowed to submit coursework late. See http://www.inf.ed.ac.uk/teaching/years/msc/courseguide10.html#exam for exceptions to this, e.g. in case of serious medical illness or serious personal problems.\n",
    "\n",
    "**Collaboration:** You may discuss the assignment with your colleagues, provided that the writing that you submit is entirely your own. That is, you should NOT borrow actual text or code from other students. We ask that you provide a list of the people who you've had discussions with (if any).\n",
    "\n",
    "**Resubmission:** If you submit your file again, the previous submission is **overwritten**. We will mark the version that is in the submission folder at the deadline."
   ]
  },
  {
   "cell_type": "markdown",
   "metadata": {},
   "source": [
    "## Important Instructions\n",
    "\n",
    "1. You *MUST* have your environment set up as in the [README](https://github.com/JamesOwers/iaml2017) and you *must activate this environment before running this notebook*:\n",
    "```\n",
    "source activate iaml\n",
    "cd iaml_2017\n",
    "jupyter notebook\n",
    "# Navigate to this file\n",
    "```\n",
    "\n",
    "1. Wherever you are required to produce code you should use code cells, otherwise you should use markdown cells to report results and explain answers.\n",
    "\n",
    "1. The .csv files that you will be using are located at `./datasets` (the `datasets` directory is adjacent to this file).\n",
    "\n",
    "1. **IMPORTANT:** Keep your answers brief and concise. Most written questions can be answered with 2-3 lines of explanation."
   ]
  },
  {
   "cell_type": "markdown",
   "metadata": {},
   "source": [
    "## Imports\n",
    "\n",
    "Include all required imports and execute the cell below. It's typical to include package imports at the top of the file for clarity."
   ]
  },
  {
   "cell_type": "code",
   "execution_count": 1,
   "metadata": {
    "collapsed": true
   },
   "outputs": [],
   "source": [
    "from __future__ import print_function, division\n",
    "%matplotlib inline\n",
    "\n",
    "# Your code goes here\n",
    "import os\n",
    "import numpy as np \n",
    "import pandas as pd\n",
    "import matplotlib.pyplot as plt\n",
    "import seaborn as sns\n",
    "from sklearn.model_selection import train_test_split\n",
    "from sklearn.preprocessing import LabelEncoder\n",
    "from sklearn.linear_model import LogisticRegression\n",
    "from sklearn.svm import LinearSVC, SVC\n",
    "from sklearn.neighbors import KNeighborsClassifier\n",
    "KNeighboursClassifier = KNeighborsClassifier\n",
    "from sklearn.metrics import confusion_matrix, log_loss"
   ]
  },
  {
   "cell_type": "markdown",
   "metadata": {},
   "source": [
    "## Description of the dataset\n",
    "In this assignment our goal is to recognize objects in images of realistic scenes. There are 19 different classes of object e.g. person, dog, cat, car, etc. The dataset derives from several thousands photographs harvested from the web. Each object of a relevant class has been manually annotated with a bounding box. Images can contain none, one or multiple objects of each class. We have prepared a [website](http://www.inf.ed.ac.uk/teaching/courses/iaml/2014/assts/asst3/images.html) where you can view the images.\n",
    "\n",
    "We are going to detect whether images contain a person or not - a binary classification problem. To save you time and to make the problem manageable with limited computational resources, we have preprocessed the dataset. We will use the [Bag of Visual Words](https://en.wikipedia.org/wiki/Bag-of-words_model_in_computer_vision) representation. Each column of the dataset (which is not an lable), refers to a 'visual word'. Each image is represented by a 500 dimensional vector that contains the normalized count for each of 500 different visual words present in the respective image (a similar representation is used for the spambase dataset, just for real words). See the Appendix at the bottom of the notebook for more information. The image data is thus a $N \\times 500$ dimensional matrix where `N` is the number of images.\n",
    "\n",
    "The full dataset has 520 attributes (dimensions). The first attribute (`imgID`) contains the image ID which allows you to associate a data point with an actual image. The next 500 attributes (`dim1`, ..., `dim500`) are a normalized count vector for each visual word. The last 19 attributes (`is_class`) are the labels - 1 means the class is present in the image. In most of the experiments (unless explicitly noted otherwise) you will only need the `is_person` attribute and the 500 dimensional feature vector. **Do not use the additional class indicator attributes as features** unless explicitly told to do so. \n",
    "\n",
    "In Part A we provide you with a training (`train_images partA.csv`) and a validation (`valid_images partA .csv`) dataset. In Part B we provide three data sets: a training set (`train_images partB.csv`), a validation set (`valid_images partB.csv`), and a test set (`test_images partB.csv`). The training and validation set contain valid labels. In the test set the labels are missing. The files are available from the GitHub repository. \n",
    "\n",
    "**Important**: *Throughout the assignment you will be given various versions of the dataset that are relevant\n",
    "to a particular question. Please be careful to use the correct version of the dataset when instructed to do so.\n",
    "If you use the wrong version of the dataset by mistake no marks will be awarded.*"
   ]
  },
  {
   "cell_type": "markdown",
   "metadata": {},
   "source": [
    "## 1. Exploration of the dataset [70%]"
   ]
  },
  {
   "cell_type": "markdown",
   "metadata": {},
   "source": [
    "### ========== Question 1.1 --- [1 mark] ==========\n",
    "Create two Pandas DataFrame objects called `train_A` and `valid_A` by loading the datasets `train_images_partA.csv` and `valid_images_partA.csv`. Display the number of data points and attributes in each of the two datasets."
   ]
  },
  {
   "cell_type": "code",
   "execution_count": 2,
   "metadata": {},
   "outputs": [
    {
     "name": "stdout",
     "output_type": "stream",
     "text": [
      "train_A Attributes: 520\tNumber of data points:2093\n",
      "valid_A Attributes: 520\tNumber of data points:1113\n",
      "Out of the 520, the first is id and the last 19 are class labels\n"
     ]
    }
   ],
   "source": [
    "dataPathTrain = os.path.join(os.getcwd(),'datasets','train_images_partA.csv')\n",
    "dataPathValid = os.path.join(os.getcwd(),'datasets','valid_images_partA.csv')\n",
    "train_A = pd.read_csv(dataPathTrain)\n",
    "valid_A = pd.read_csv(dataPathValid)\n",
    "print('train_A Attributes: {}\\tNumber of data points:{}'.format(train_A.shape[1],train_A.shape[0]))\n",
    "print('valid_A Attributes: {}\\tNumber of data points:{}'.format(valid_A.shape[1],valid_A.shape[0]))\n",
    "print('Out of the 520, the first is id and the last 19 are class labels')"
   ]
  },
  {
   "cell_type": "markdown",
   "metadata": {},
   "source": [
    "### ========== Question 1.2 --- [1 mark] ==========\n",
    "Display and inspect the first 10 instances in the training dataset."
   ]
  },
  {
   "cell_type": "code",
   "execution_count": 3,
   "metadata": {},
   "outputs": [
    {
     "data": {
      "text/html": [
       "<div>\n",
       "<style>\n",
       "    .dataframe thead tr:only-child th {\n",
       "        text-align: right;\n",
       "    }\n",
       "\n",
       "    .dataframe thead th {\n",
       "        text-align: left;\n",
       "    }\n",
       "\n",
       "    .dataframe tbody tr th {\n",
       "        vertical-align: top;\n",
       "    }\n",
       "</style>\n",
       "<table border=\"1\" class=\"dataframe\">\n",
       "  <thead>\n",
       "    <tr style=\"text-align: right;\">\n",
       "      <th></th>\n",
       "      <th>imgId</th>\n",
       "      <th>dim1</th>\n",
       "      <th>dim2</th>\n",
       "      <th>dim3</th>\n",
       "      <th>dim4</th>\n",
       "      <th>dim5</th>\n",
       "      <th>dim6</th>\n",
       "      <th>dim7</th>\n",
       "      <th>dim8</th>\n",
       "      <th>dim9</th>\n",
       "      <th>...</th>\n",
       "      <th>is_cow</th>\n",
       "      <th>is_diningtable</th>\n",
       "      <th>is_dog</th>\n",
       "      <th>is_horse</th>\n",
       "      <th>is_motorbike</th>\n",
       "      <th>is_person</th>\n",
       "      <th>is_pottedplant</th>\n",
       "      <th>is_sheep</th>\n",
       "      <th>is_sofa</th>\n",
       "      <th>is_tvmonitor</th>\n",
       "    </tr>\n",
       "  </thead>\n",
       "  <tbody>\n",
       "    <tr>\n",
       "      <th>0</th>\n",
       "      <td>2008_000008</td>\n",
       "      <td>0.002232</td>\n",
       "      <td>0.000558</td>\n",
       "      <td>0.002790</td>\n",
       "      <td>0.000837</td>\n",
       "      <td>0.001674</td>\n",
       "      <td>0.001953</td>\n",
       "      <td>0.001395</td>\n",
       "      <td>0.002232</td>\n",
       "      <td>0.003627</td>\n",
       "      <td>...</td>\n",
       "      <td>0</td>\n",
       "      <td>0</td>\n",
       "      <td>0</td>\n",
       "      <td>1</td>\n",
       "      <td>0</td>\n",
       "      <td>1</td>\n",
       "      <td>0</td>\n",
       "      <td>0</td>\n",
       "      <td>0</td>\n",
       "      <td>0</td>\n",
       "    </tr>\n",
       "    <tr>\n",
       "      <th>1</th>\n",
       "      <td>2008_000015</td>\n",
       "      <td>0.001563</td>\n",
       "      <td>0.000391</td>\n",
       "      <td>0.007422</td>\n",
       "      <td>0.003516</td>\n",
       "      <td>0.003906</td>\n",
       "      <td>0.005078</td>\n",
       "      <td>0.001953</td>\n",
       "      <td>0.002344</td>\n",
       "      <td>0.001953</td>\n",
       "      <td>...</td>\n",
       "      <td>0</td>\n",
       "      <td>0</td>\n",
       "      <td>0</td>\n",
       "      <td>0</td>\n",
       "      <td>0</td>\n",
       "      <td>0</td>\n",
       "      <td>0</td>\n",
       "      <td>0</td>\n",
       "      <td>0</td>\n",
       "      <td>0</td>\n",
       "    </tr>\n",
       "    <tr>\n",
       "      <th>2</th>\n",
       "      <td>2008_000019</td>\n",
       "      <td>0.000521</td>\n",
       "      <td>0.000000</td>\n",
       "      <td>0.000000</td>\n",
       "      <td>0.001042</td>\n",
       "      <td>0.001563</td>\n",
       "      <td>0.005729</td>\n",
       "      <td>0.000521</td>\n",
       "      <td>0.002083</td>\n",
       "      <td>0.003646</td>\n",
       "      <td>...</td>\n",
       "      <td>0</td>\n",
       "      <td>0</td>\n",
       "      <td>1</td>\n",
       "      <td>0</td>\n",
       "      <td>0</td>\n",
       "      <td>0</td>\n",
       "      <td>0</td>\n",
       "      <td>0</td>\n",
       "      <td>0</td>\n",
       "      <td>0</td>\n",
       "    </tr>\n",
       "    <tr>\n",
       "      <th>3</th>\n",
       "      <td>2008_000023</td>\n",
       "      <td>0.002976</td>\n",
       "      <td>0.002232</td>\n",
       "      <td>0.004464</td>\n",
       "      <td>0.000372</td>\n",
       "      <td>0.000372</td>\n",
       "      <td>0.002232</td>\n",
       "      <td>0.000000</td>\n",
       "      <td>0.003720</td>\n",
       "      <td>0.000000</td>\n",
       "      <td>...</td>\n",
       "      <td>0</td>\n",
       "      <td>0</td>\n",
       "      <td>0</td>\n",
       "      <td>0</td>\n",
       "      <td>0</td>\n",
       "      <td>1</td>\n",
       "      <td>0</td>\n",
       "      <td>0</td>\n",
       "      <td>0</td>\n",
       "      <td>1</td>\n",
       "    </tr>\n",
       "    <tr>\n",
       "      <th>4</th>\n",
       "      <td>2008_000028</td>\n",
       "      <td>0.001359</td>\n",
       "      <td>0.000340</td>\n",
       "      <td>0.001359</td>\n",
       "      <td>0.000340</td>\n",
       "      <td>0.001359</td>\n",
       "      <td>0.002038</td>\n",
       "      <td>0.002378</td>\n",
       "      <td>0.000000</td>\n",
       "      <td>0.003397</td>\n",
       "      <td>...</td>\n",
       "      <td>0</td>\n",
       "      <td>0</td>\n",
       "      <td>0</td>\n",
       "      <td>0</td>\n",
       "      <td>0</td>\n",
       "      <td>0</td>\n",
       "      <td>0</td>\n",
       "      <td>0</td>\n",
       "      <td>0</td>\n",
       "      <td>0</td>\n",
       "    </tr>\n",
       "    <tr>\n",
       "      <th>5</th>\n",
       "      <td>2008_000033</td>\n",
       "      <td>0.000000</td>\n",
       "      <td>0.006324</td>\n",
       "      <td>0.000372</td>\n",
       "      <td>0.000372</td>\n",
       "      <td>0.000372</td>\n",
       "      <td>0.000372</td>\n",
       "      <td>0.000744</td>\n",
       "      <td>0.008185</td>\n",
       "      <td>0.000372</td>\n",
       "      <td>...</td>\n",
       "      <td>0</td>\n",
       "      <td>0</td>\n",
       "      <td>0</td>\n",
       "      <td>0</td>\n",
       "      <td>0</td>\n",
       "      <td>0</td>\n",
       "      <td>0</td>\n",
       "      <td>0</td>\n",
       "      <td>0</td>\n",
       "      <td>0</td>\n",
       "    </tr>\n",
       "    <tr>\n",
       "      <th>6</th>\n",
       "      <td>2008_000036</td>\n",
       "      <td>0.000340</td>\n",
       "      <td>0.000000</td>\n",
       "      <td>0.004416</td>\n",
       "      <td>0.000340</td>\n",
       "      <td>0.000679</td>\n",
       "      <td>0.006114</td>\n",
       "      <td>0.001359</td>\n",
       "      <td>0.002717</td>\n",
       "      <td>0.003057</td>\n",
       "      <td>...</td>\n",
       "      <td>0</td>\n",
       "      <td>0</td>\n",
       "      <td>0</td>\n",
       "      <td>0</td>\n",
       "      <td>0</td>\n",
       "      <td>1</td>\n",
       "      <td>0</td>\n",
       "      <td>0</td>\n",
       "      <td>0</td>\n",
       "      <td>0</td>\n",
       "    </tr>\n",
       "    <tr>\n",
       "      <th>7</th>\n",
       "      <td>2008_000037</td>\n",
       "      <td>0.000837</td>\n",
       "      <td>0.002232</td>\n",
       "      <td>0.000279</td>\n",
       "      <td>0.000279</td>\n",
       "      <td>0.000837</td>\n",
       "      <td>0.000000</td>\n",
       "      <td>0.000279</td>\n",
       "      <td>0.006696</td>\n",
       "      <td>0.000000</td>\n",
       "      <td>...</td>\n",
       "      <td>0</td>\n",
       "      <td>0</td>\n",
       "      <td>0</td>\n",
       "      <td>0</td>\n",
       "      <td>0</td>\n",
       "      <td>0</td>\n",
       "      <td>0</td>\n",
       "      <td>0</td>\n",
       "      <td>0</td>\n",
       "      <td>0</td>\n",
       "    </tr>\n",
       "    <tr>\n",
       "      <th>8</th>\n",
       "      <td>2008_000041</td>\n",
       "      <td>0.002378</td>\n",
       "      <td>0.001359</td>\n",
       "      <td>0.004755</td>\n",
       "      <td>0.001019</td>\n",
       "      <td>0.003736</td>\n",
       "      <td>0.001359</td>\n",
       "      <td>0.001019</td>\n",
       "      <td>0.004076</td>\n",
       "      <td>0.003397</td>\n",
       "      <td>...</td>\n",
       "      <td>0</td>\n",
       "      <td>1</td>\n",
       "      <td>0</td>\n",
       "      <td>0</td>\n",
       "      <td>0</td>\n",
       "      <td>1</td>\n",
       "      <td>0</td>\n",
       "      <td>0</td>\n",
       "      <td>0</td>\n",
       "      <td>0</td>\n",
       "    </tr>\n",
       "    <tr>\n",
       "      <th>9</th>\n",
       "      <td>2008_000045</td>\n",
       "      <td>0.001019</td>\n",
       "      <td>0.000340</td>\n",
       "      <td>0.006454</td>\n",
       "      <td>0.001698</td>\n",
       "      <td>0.001359</td>\n",
       "      <td>0.003736</td>\n",
       "      <td>0.000000</td>\n",
       "      <td>0.004076</td>\n",
       "      <td>0.000000</td>\n",
       "      <td>...</td>\n",
       "      <td>0</td>\n",
       "      <td>0</td>\n",
       "      <td>0</td>\n",
       "      <td>0</td>\n",
       "      <td>0</td>\n",
       "      <td>0</td>\n",
       "      <td>0</td>\n",
       "      <td>0</td>\n",
       "      <td>0</td>\n",
       "      <td>0</td>\n",
       "    </tr>\n",
       "  </tbody>\n",
       "</table>\n",
       "<p>10 rows × 520 columns</p>\n",
       "</div>"
      ],
      "text/plain": [
       "         imgId      dim1      dim2      dim3      dim4      dim5      dim6  \\\n",
       "0  2008_000008  0.002232  0.000558  0.002790  0.000837  0.001674  0.001953   \n",
       "1  2008_000015  0.001563  0.000391  0.007422  0.003516  0.003906  0.005078   \n",
       "2  2008_000019  0.000521  0.000000  0.000000  0.001042  0.001563  0.005729   \n",
       "3  2008_000023  0.002976  0.002232  0.004464  0.000372  0.000372  0.002232   \n",
       "4  2008_000028  0.001359  0.000340  0.001359  0.000340  0.001359  0.002038   \n",
       "5  2008_000033  0.000000  0.006324  0.000372  0.000372  0.000372  0.000372   \n",
       "6  2008_000036  0.000340  0.000000  0.004416  0.000340  0.000679  0.006114   \n",
       "7  2008_000037  0.000837  0.002232  0.000279  0.000279  0.000837  0.000000   \n",
       "8  2008_000041  0.002378  0.001359  0.004755  0.001019  0.003736  0.001359   \n",
       "9  2008_000045  0.001019  0.000340  0.006454  0.001698  0.001359  0.003736   \n",
       "\n",
       "       dim7      dim8      dim9      ...       is_cow  is_diningtable  is_dog  \\\n",
       "0  0.001395  0.002232  0.003627      ...            0               0       0   \n",
       "1  0.001953  0.002344  0.001953      ...            0               0       0   \n",
       "2  0.000521  0.002083  0.003646      ...            0               0       1   \n",
       "3  0.000000  0.003720  0.000000      ...            0               0       0   \n",
       "4  0.002378  0.000000  0.003397      ...            0               0       0   \n",
       "5  0.000744  0.008185  0.000372      ...            0               0       0   \n",
       "6  0.001359  0.002717  0.003057      ...            0               0       0   \n",
       "7  0.000279  0.006696  0.000000      ...            0               0       0   \n",
       "8  0.001019  0.004076  0.003397      ...            0               1       0   \n",
       "9  0.000000  0.004076  0.000000      ...            0               0       0   \n",
       "\n",
       "   is_horse  is_motorbike  is_person  is_pottedplant  is_sheep  is_sofa  \\\n",
       "0         1             0          1               0         0        0   \n",
       "1         0             0          0               0         0        0   \n",
       "2         0             0          0               0         0        0   \n",
       "3         0             0          1               0         0        0   \n",
       "4         0             0          0               0         0        0   \n",
       "5         0             0          0               0         0        0   \n",
       "6         0             0          1               0         0        0   \n",
       "7         0             0          0               0         0        0   \n",
       "8         0             0          1               0         0        0   \n",
       "9         0             0          0               0         0        0   \n",
       "\n",
       "   is_tvmonitor  \n",
       "0             0  \n",
       "1             0  \n",
       "2             0  \n",
       "3             1  \n",
       "4             0  \n",
       "5             0  \n",
       "6             0  \n",
       "7             0  \n",
       "8             0  \n",
       "9             0  \n",
       "\n",
       "[10 rows x 520 columns]"
      ]
     },
     "execution_count": 3,
     "metadata": {},
     "output_type": "execute_result"
    }
   ],
   "source": [
    "train_A.head(10)"
   ]
  },
  {
   "cell_type": "markdown",
   "metadata": {},
   "source": [
    "### ========== Question 1.3 --- [1 mark] ==========\n",
    "Select the attributes (i.e. input features) for training our classifiers. These should be the visual word normalised counts `dim1, dim2, ..., dim500`. Create a list of the **names** of the attributes of interest. "
   ]
  },
  {
   "cell_type": "code",
   "execution_count": 4,
   "metadata": {},
   "outputs": [
    {
     "data": {
      "text/plain": [
       "['dim1',\n",
       " 'dim2',\n",
       " 'dim3',\n",
       " 'dim4',\n",
       " 'dim5',\n",
       " 'dim6',\n",
       " 'dim7',\n",
       " 'dim8',\n",
       " 'dim9',\n",
       " 'dim10',\n",
       " 'dim11',\n",
       " 'dim12',\n",
       " 'dim13',\n",
       " 'dim14',\n",
       " 'dim15',\n",
       " 'dim16',\n",
       " 'dim17',\n",
       " 'dim18',\n",
       " 'dim19',\n",
       " 'dim20',\n",
       " 'dim21',\n",
       " 'dim22',\n",
       " 'dim23',\n",
       " 'dim24',\n",
       " 'dim25',\n",
       " 'dim26',\n",
       " 'dim27',\n",
       " 'dim28',\n",
       " 'dim29',\n",
       " 'dim30',\n",
       " 'dim31',\n",
       " 'dim32',\n",
       " 'dim33',\n",
       " 'dim34',\n",
       " 'dim35',\n",
       " 'dim36',\n",
       " 'dim37',\n",
       " 'dim38',\n",
       " 'dim39',\n",
       " 'dim40',\n",
       " 'dim41',\n",
       " 'dim42',\n",
       " 'dim43',\n",
       " 'dim44',\n",
       " 'dim45',\n",
       " 'dim46',\n",
       " 'dim47',\n",
       " 'dim48',\n",
       " 'dim49',\n",
       " 'dim50',\n",
       " 'dim51',\n",
       " 'dim52',\n",
       " 'dim53',\n",
       " 'dim54',\n",
       " 'dim55',\n",
       " 'dim56',\n",
       " 'dim57',\n",
       " 'dim58',\n",
       " 'dim59',\n",
       " 'dim60',\n",
       " 'dim61',\n",
       " 'dim62',\n",
       " 'dim63',\n",
       " 'dim64',\n",
       " 'dim65',\n",
       " 'dim66',\n",
       " 'dim67',\n",
       " 'dim68',\n",
       " 'dim69',\n",
       " 'dim70',\n",
       " 'dim71',\n",
       " 'dim72',\n",
       " 'dim73',\n",
       " 'dim74',\n",
       " 'dim75',\n",
       " 'dim76',\n",
       " 'dim77',\n",
       " 'dim78',\n",
       " 'dim79',\n",
       " 'dim80',\n",
       " 'dim81',\n",
       " 'dim82',\n",
       " 'dim83',\n",
       " 'dim84',\n",
       " 'dim85',\n",
       " 'dim86',\n",
       " 'dim87',\n",
       " 'dim88',\n",
       " 'dim89',\n",
       " 'dim90',\n",
       " 'dim91',\n",
       " 'dim92',\n",
       " 'dim93',\n",
       " 'dim94',\n",
       " 'dim95',\n",
       " 'dim96',\n",
       " 'dim97',\n",
       " 'dim98',\n",
       " 'dim99',\n",
       " 'dim100',\n",
       " 'dim101',\n",
       " 'dim102',\n",
       " 'dim103',\n",
       " 'dim104',\n",
       " 'dim105',\n",
       " 'dim106',\n",
       " 'dim107',\n",
       " 'dim108',\n",
       " 'dim109',\n",
       " 'dim110',\n",
       " 'dim111',\n",
       " 'dim112',\n",
       " 'dim113',\n",
       " 'dim114',\n",
       " 'dim115',\n",
       " 'dim116',\n",
       " 'dim117',\n",
       " 'dim118',\n",
       " 'dim119',\n",
       " 'dim120',\n",
       " 'dim121',\n",
       " 'dim122',\n",
       " 'dim123',\n",
       " 'dim124',\n",
       " 'dim125',\n",
       " 'dim126',\n",
       " 'dim127',\n",
       " 'dim128',\n",
       " 'dim129',\n",
       " 'dim130',\n",
       " 'dim131',\n",
       " 'dim132',\n",
       " 'dim133',\n",
       " 'dim134',\n",
       " 'dim135',\n",
       " 'dim136',\n",
       " 'dim137',\n",
       " 'dim138',\n",
       " 'dim139',\n",
       " 'dim140',\n",
       " 'dim141',\n",
       " 'dim142',\n",
       " 'dim143',\n",
       " 'dim144',\n",
       " 'dim145',\n",
       " 'dim146',\n",
       " 'dim147',\n",
       " 'dim148',\n",
       " 'dim149',\n",
       " 'dim150',\n",
       " 'dim151',\n",
       " 'dim152',\n",
       " 'dim153',\n",
       " 'dim154',\n",
       " 'dim155',\n",
       " 'dim156',\n",
       " 'dim157',\n",
       " 'dim158',\n",
       " 'dim159',\n",
       " 'dim160',\n",
       " 'dim161',\n",
       " 'dim162',\n",
       " 'dim163',\n",
       " 'dim164',\n",
       " 'dim165',\n",
       " 'dim166',\n",
       " 'dim167',\n",
       " 'dim168',\n",
       " 'dim169',\n",
       " 'dim170',\n",
       " 'dim171',\n",
       " 'dim172',\n",
       " 'dim173',\n",
       " 'dim174',\n",
       " 'dim175',\n",
       " 'dim176',\n",
       " 'dim177',\n",
       " 'dim178',\n",
       " 'dim179',\n",
       " 'dim180',\n",
       " 'dim181',\n",
       " 'dim182',\n",
       " 'dim183',\n",
       " 'dim184',\n",
       " 'dim185',\n",
       " 'dim186',\n",
       " 'dim187',\n",
       " 'dim188',\n",
       " 'dim189',\n",
       " 'dim190',\n",
       " 'dim191',\n",
       " 'dim192',\n",
       " 'dim193',\n",
       " 'dim194',\n",
       " 'dim195',\n",
       " 'dim196',\n",
       " 'dim197',\n",
       " 'dim198',\n",
       " 'dim199',\n",
       " 'dim200',\n",
       " 'dim201',\n",
       " 'dim202',\n",
       " 'dim203',\n",
       " 'dim204',\n",
       " 'dim205',\n",
       " 'dim206',\n",
       " 'dim207',\n",
       " 'dim208',\n",
       " 'dim209',\n",
       " 'dim210',\n",
       " 'dim211',\n",
       " 'dim212',\n",
       " 'dim213',\n",
       " 'dim214',\n",
       " 'dim215',\n",
       " 'dim216',\n",
       " 'dim217',\n",
       " 'dim218',\n",
       " 'dim219',\n",
       " 'dim220',\n",
       " 'dim221',\n",
       " 'dim222',\n",
       " 'dim223',\n",
       " 'dim224',\n",
       " 'dim225',\n",
       " 'dim226',\n",
       " 'dim227',\n",
       " 'dim228',\n",
       " 'dim229',\n",
       " 'dim230',\n",
       " 'dim231',\n",
       " 'dim232',\n",
       " 'dim233',\n",
       " 'dim234',\n",
       " 'dim235',\n",
       " 'dim236',\n",
       " 'dim237',\n",
       " 'dim238',\n",
       " 'dim239',\n",
       " 'dim240',\n",
       " 'dim241',\n",
       " 'dim242',\n",
       " 'dim243',\n",
       " 'dim244',\n",
       " 'dim245',\n",
       " 'dim246',\n",
       " 'dim247',\n",
       " 'dim248',\n",
       " 'dim249',\n",
       " 'dim250',\n",
       " 'dim251',\n",
       " 'dim252',\n",
       " 'dim253',\n",
       " 'dim254',\n",
       " 'dim255',\n",
       " 'dim256',\n",
       " 'dim257',\n",
       " 'dim258',\n",
       " 'dim259',\n",
       " 'dim260',\n",
       " 'dim261',\n",
       " 'dim262',\n",
       " 'dim263',\n",
       " 'dim264',\n",
       " 'dim265',\n",
       " 'dim266',\n",
       " 'dim267',\n",
       " 'dim268',\n",
       " 'dim269',\n",
       " 'dim270',\n",
       " 'dim271',\n",
       " 'dim272',\n",
       " 'dim273',\n",
       " 'dim274',\n",
       " 'dim275',\n",
       " 'dim276',\n",
       " 'dim277',\n",
       " 'dim278',\n",
       " 'dim279',\n",
       " 'dim280',\n",
       " 'dim281',\n",
       " 'dim282',\n",
       " 'dim283',\n",
       " 'dim284',\n",
       " 'dim285',\n",
       " 'dim286',\n",
       " 'dim287',\n",
       " 'dim288',\n",
       " 'dim289',\n",
       " 'dim290',\n",
       " 'dim291',\n",
       " 'dim292',\n",
       " 'dim293',\n",
       " 'dim294',\n",
       " 'dim295',\n",
       " 'dim296',\n",
       " 'dim297',\n",
       " 'dim298',\n",
       " 'dim299',\n",
       " 'dim300',\n",
       " 'dim301',\n",
       " 'dim302',\n",
       " 'dim303',\n",
       " 'dim304',\n",
       " 'dim305',\n",
       " 'dim306',\n",
       " 'dim307',\n",
       " 'dim308',\n",
       " 'dim309',\n",
       " 'dim310',\n",
       " 'dim311',\n",
       " 'dim312',\n",
       " 'dim313',\n",
       " 'dim314',\n",
       " 'dim315',\n",
       " 'dim316',\n",
       " 'dim317',\n",
       " 'dim318',\n",
       " 'dim319',\n",
       " 'dim320',\n",
       " 'dim321',\n",
       " 'dim322',\n",
       " 'dim323',\n",
       " 'dim324',\n",
       " 'dim325',\n",
       " 'dim326',\n",
       " 'dim327',\n",
       " 'dim328',\n",
       " 'dim329',\n",
       " 'dim330',\n",
       " 'dim331',\n",
       " 'dim332',\n",
       " 'dim333',\n",
       " 'dim334',\n",
       " 'dim335',\n",
       " 'dim336',\n",
       " 'dim337',\n",
       " 'dim338',\n",
       " 'dim339',\n",
       " 'dim340',\n",
       " 'dim341',\n",
       " 'dim342',\n",
       " 'dim343',\n",
       " 'dim344',\n",
       " 'dim345',\n",
       " 'dim346',\n",
       " 'dim347',\n",
       " 'dim348',\n",
       " 'dim349',\n",
       " 'dim350',\n",
       " 'dim351',\n",
       " 'dim352',\n",
       " 'dim353',\n",
       " 'dim354',\n",
       " 'dim355',\n",
       " 'dim356',\n",
       " 'dim357',\n",
       " 'dim358',\n",
       " 'dim359',\n",
       " 'dim360',\n",
       " 'dim361',\n",
       " 'dim362',\n",
       " 'dim363',\n",
       " 'dim364',\n",
       " 'dim365',\n",
       " 'dim366',\n",
       " 'dim367',\n",
       " 'dim368',\n",
       " 'dim369',\n",
       " 'dim370',\n",
       " 'dim371',\n",
       " 'dim372',\n",
       " 'dim373',\n",
       " 'dim374',\n",
       " 'dim375',\n",
       " 'dim376',\n",
       " 'dim377',\n",
       " 'dim378',\n",
       " 'dim379',\n",
       " 'dim380',\n",
       " 'dim381',\n",
       " 'dim382',\n",
       " 'dim383',\n",
       " 'dim384',\n",
       " 'dim385',\n",
       " 'dim386',\n",
       " 'dim387',\n",
       " 'dim388',\n",
       " 'dim389',\n",
       " 'dim390',\n",
       " 'dim391',\n",
       " 'dim392',\n",
       " 'dim393',\n",
       " 'dim394',\n",
       " 'dim395',\n",
       " 'dim396',\n",
       " 'dim397',\n",
       " 'dim398',\n",
       " 'dim399',\n",
       " 'dim400',\n",
       " 'dim401',\n",
       " 'dim402',\n",
       " 'dim403',\n",
       " 'dim404',\n",
       " 'dim405',\n",
       " 'dim406',\n",
       " 'dim407',\n",
       " 'dim408',\n",
       " 'dim409',\n",
       " 'dim410',\n",
       " 'dim411',\n",
       " 'dim412',\n",
       " 'dim413',\n",
       " 'dim414',\n",
       " 'dim415',\n",
       " 'dim416',\n",
       " 'dim417',\n",
       " 'dim418',\n",
       " 'dim419',\n",
       " 'dim420',\n",
       " 'dim421',\n",
       " 'dim422',\n",
       " 'dim423',\n",
       " 'dim424',\n",
       " 'dim425',\n",
       " 'dim426',\n",
       " 'dim427',\n",
       " 'dim428',\n",
       " 'dim429',\n",
       " 'dim430',\n",
       " 'dim431',\n",
       " 'dim432',\n",
       " 'dim433',\n",
       " 'dim434',\n",
       " 'dim435',\n",
       " 'dim436',\n",
       " 'dim437',\n",
       " 'dim438',\n",
       " 'dim439',\n",
       " 'dim440',\n",
       " 'dim441',\n",
       " 'dim442',\n",
       " 'dim443',\n",
       " 'dim444',\n",
       " 'dim445',\n",
       " 'dim446',\n",
       " 'dim447',\n",
       " 'dim448',\n",
       " 'dim449',\n",
       " 'dim450',\n",
       " 'dim451',\n",
       " 'dim452',\n",
       " 'dim453',\n",
       " 'dim454',\n",
       " 'dim455',\n",
       " 'dim456',\n",
       " 'dim457',\n",
       " 'dim458',\n",
       " 'dim459',\n",
       " 'dim460',\n",
       " 'dim461',\n",
       " 'dim462',\n",
       " 'dim463',\n",
       " 'dim464',\n",
       " 'dim465',\n",
       " 'dim466',\n",
       " 'dim467',\n",
       " 'dim468',\n",
       " 'dim469',\n",
       " 'dim470',\n",
       " 'dim471',\n",
       " 'dim472',\n",
       " 'dim473',\n",
       " 'dim474',\n",
       " 'dim475',\n",
       " 'dim476',\n",
       " 'dim477',\n",
       " 'dim478',\n",
       " 'dim479',\n",
       " 'dim480',\n",
       " 'dim481',\n",
       " 'dim482',\n",
       " 'dim483',\n",
       " 'dim484',\n",
       " 'dim485',\n",
       " 'dim486',\n",
       " 'dim487',\n",
       " 'dim488',\n",
       " 'dim489',\n",
       " 'dim490',\n",
       " 'dim491',\n",
       " 'dim492',\n",
       " 'dim493',\n",
       " 'dim494',\n",
       " 'dim495',\n",
       " 'dim496',\n",
       " 'dim497',\n",
       " 'dim498',\n",
       " 'dim499',\n",
       " 'dim500']"
      ]
     },
     "execution_count": 4,
     "metadata": {},
     "output_type": "execute_result"
    }
   ],
   "source": [
    "names = train_A.columns.tolist()[1:-19]\n",
    "names"
   ]
  },
  {
   "cell_type": "markdown",
   "metadata": {},
   "source": [
    "### ========== Question 1.4 --- [1 mark] ==========\n",
    "By using the list from Question 1.3 now create 4 numpy arrays `X_tr`, `X_val`, `y_tr` and `y_val` in which to store the training features, validation features, training targets, and validation targets, respectively. Your target vectors should correspond to the `is_person` attribute of the training and validation sets. Display the dimensionalities (i.e shapes) of the 4 arrays. \n",
    "\n",
    "Check this carefully - you will be penalised in following questions if the data is not correct!"
   ]
  },
  {
   "cell_type": "code",
   "execution_count": 5,
   "metadata": {},
   "outputs": [
    {
     "name": "stdout",
     "output_type": "stream",
     "text": [
      "X_tr Shape: (2093, 500)\n",
      "X_val Shape: (1113, 500)\n",
      "y_tr Shape: (2093,)\n",
      "y_val Shape: (1113,)\n"
     ]
    }
   ],
   "source": [
    "X_tr = train_A[names]\n",
    "X_val = valid_A[names]\n",
    "y_tr = train_A['is_person']\n",
    "y_val = valid_A['is_person']\n",
    "\n",
    "print('X_tr Shape: {}'.format(X_tr.shape))\n",
    "print('X_val Shape: {}'.format(X_val.shape))\n",
    "print('y_tr Shape: {}'.format(y_tr.shape))\n",
    "print('y_val Shape: {}'.format(y_val.shape))"
   ]
  },
  {
   "cell_type": "markdown",
   "metadata": {},
   "source": [
    "### ========== Question 1.5 --- [2 marks] ==========\n",
    "Create a [countplots](https://seaborn.github.io/generated/seaborn.countplot.html?highlight=countplot#seaborn.countplot) for the training and validation targets. Create a single figure, and put the two plots inside the single figure. Label axes appropriately and add a title to your plot. Use descriptive `xticklabels` instead of the default numeric ones."
   ]
  },
  {
   "cell_type": "code",
   "execution_count": 6,
   "metadata": {},
   "outputs": [
    {
     "data": {
      "image/png": "[encoded data removed]",
      "text/plain": [
       "<matplotlib.figure.Figure at 0x7f496b6aecd0>"
      ]
     },
     "metadata": {},
     "output_type": "display_data"
    }
   ],
   "source": [
    "fig, (ax1,ax2) = plt.subplots(1,2,figsize=(15,5))\n",
    "sns.countplot(x='is_person',data=train_A,ax=ax1)\n",
    "sns.countplot(x='is_person',data=valid_A,ax=ax2)\n",
    "ax1.set_xticklabels(['Not person','Person'])\n",
    "ax1.set_xticklabels(['Not person','Person'])\n",
    "ax1.set_xlabel('Training Targets')\n",
    "ax2.set_xlabel('Validating Targets')\n",
    "plt.suptitle('Count of is_person for Training and Validating Sets')\n",
    "fig.tight_layout()\n",
    "fig.subplots_adjust(top=0.88)\n",
    "plt.show()"
   ]
  },
  {
   "cell_type": "markdown",
   "metadata": {},
   "source": [
    "### ========== Question 1.6 --- [1 mark] ==========\n",
    "We want to make a baseline classification accuracy to beat. Pick a baseline \"dummy\" classifier, describe in a sentence why you chose it, and report the accuracy it achieves on the validation set?"
   ]
  },
  {
   "cell_type": "markdown",
   "metadata": {},
   "source": [
    "*Your answer goes here*"
   ]
  },
  {
   "cell_type": "markdown",
   "metadata": {},
   "source": [
    "I chose to return the most frequent class as output for my dummy classifier as simply guessing non-person will get an accuracy of 50%."
   ]
  },
  {
   "cell_type": "code",
   "execution_count": 7,
   "metadata": {},
   "outputs": [
    {
     "name": "stdout",
     "output_type": "stream",
     "text": [
      "The dummy classifier has accuracy: 0.527 on the validation set.\n"
     ]
    }
   ],
   "source": [
    "from sklearn.dummy import DummyClassifier\n",
    "dc1 = DummyClassifier(strategy='most_frequent')\n",
    "dc1.fit(X_tr,y_tr)\n",
    "print('The dummy classifier has accuracy: {:.3f} on the validation set.'.format(dc1.score(X_val,y_val)))"
   ]
  },
  {
   "cell_type": "markdown",
   "metadata": {},
   "source": [
    "### ========== Question 1.7 --- [3 marks] ==========\n",
    "Train a [`LogisticRegression`](http://scikit-learn.org/0.17/modules/generated/sklearn.linear_model.LogisticRegression.html) classifier using default settings, except for the `solver` parameter which you should set to `lbfgs`. Report the classification accuracy score on the training and validation sets and compare with the baseline. Comment on the results with 1-2 sentences. You may include any additional plot(s) if you wish to justify your explanation."
   ]
  },
  {
   "cell_type": "code",
   "execution_count": 8,
   "metadata": {},
   "outputs": [
    {
     "name": "stdout",
     "output_type": "stream",
     "text": [
      "Classification accuracy on training set:\t 0.551\n",
      "Classification accuracy on validation set:\t 0.527\n"
     ]
    }
   ],
   "source": [
    "lr = LogisticRegression(solver='lbfgs')\n",
    "lr.fit(X_tr,y_tr)\n",
    "print('Classification accuracy on training set:\\t {:.3f}'.format(lr.score(X_tr, y_tr)))\n",
    "print('Classification accuracy on validation set:\\t {:.3f}'.format(lr.score(X_val, y_val)))"
   ]
  },
  {
   "cell_type": "markdown",
   "metadata": {},
   "source": [
    "*Your answer goes here*"
   ]
  },
  {
   "cell_type": "markdown",
   "metadata": {},
   "source": [
    "The accuracy with Logistic Regressor on  training set has not improved significantly and that with validation set has not improved at all in comparison to the baseline. "
   ]
  },
  {
   "cell_type": "markdown",
   "metadata": {},
   "source": [
    "### ========== Question 1.8 --- [1 mark] ==========\n",
    "Display the means and standard deviations of the first 5 features in the training set. *Hint: you want to compute the means and standard deviations for each column in your arrays. Make sure you make appropriate use of the `axis` parameter.*"
   ]
  },
  {
   "cell_type": "code",
   "execution_count": 9,
   "metadata": {},
   "outputs": [
    {
     "name": "stdout",
     "output_type": "stream",
     "text": [
      "Feature dim1 - \tMean: 0.001751\tStandard Deviation: 0.001193\n",
      "Feature dim2 - \tMean: 0.000756\tStandard Deviation: 0.001406\n",
      "Feature dim3 - \tMean: 0.004317\tStandard Deviation: 0.003693\n",
      "Feature dim4 - \tMean: 0.001853\tStandard Deviation: 0.001340\n",
      "Feature dim5 - \tMean: 0.002272\tStandard Deviation: 0.001598\n"
     ]
    }
   ],
   "source": [
    "for column in X_tr.columns.tolist()[:5]:\n",
    "    mean = X_tr[column].mean()\n",
    "    std = X_tr[column].std()\n",
    "    print('Feature {} - \\tMean: {:.6f}\\tStandard Deviation: {:.6f}'.format(column,mean,std))"
   ]
  },
  {
   "cell_type": "markdown",
   "metadata": {},
   "source": [
    "### ========== Question 1.9 --- [3 marks] ==========\n",
    "Feature standardisation is a pre-processing technique used to transform data so that they have zero mean and unit standard deviation. For many algorithms, this is a very important step for training models (both regression and classification). Read about [feature standardisation](http://scikit-learn.org/0.17/modules/preprocessing.html) and make sure you understand what kind of transformation this method applies to the data.\n",
    "\n",
    "`Scikit-learn` offers a [class](http://scikit-learn.org/0.17/modules/generated/sklearn.preprocessing.StandardScaler.html) for feature standardisation. Instansiate a StandardScaler object and fit it using the **training features**. Use this fitted object to transform both your training and validation features to have a standard scale. \n",
    "\n",
    "Once your training and validation input data have been transformed, display the means and standard deviations of the first 5 attributes for **both** the training and validation sets. Are the results as you expected? Explain your answer in 2-3 sentences. Why didn't we use the validation set to standardise the data?\n",
    "\n",
    "**IMPORTANT: You should use the transformed data for the rest of this part.**"
   ]
  },
  {
   "cell_type": "code",
   "execution_count": 10,
   "metadata": {},
   "outputs": [
    {
     "name": "stdout",
     "output_type": "stream",
     "text": [
      "Training Set\n",
      "Mean: -0.000000\tStandard Deviation: 1.000000\n",
      "Mean: -0.000000\tStandard Deviation: 1.000000\n",
      "Mean: 0.000000\tStandard Deviation: 1.000000\n",
      "Mean: 0.000000\tStandard Deviation: 1.000000\n",
      "Mean: -0.000000\tStandard Deviation: 1.000000\n",
      "\n",
      "Validation Set\n",
      "Mean: -0.005506\tStandard Deviation: 1.013109\n",
      "Mean: -0.038293\tStandard Deviation: 0.969819\n",
      "Mean: 0.109151\tStandard Deviation: 1.049228\n",
      "Mean: 0.093693\tStandard Deviation: 1.056845\n",
      "Mean: 0.030578\tStandard Deviation: 0.974713\n"
     ]
    }
   ],
   "source": [
    "# Your code goes here\n",
    "from sklearn.preprocessing import StandardScaler\n",
    "sc = StandardScaler()\n",
    "sc.fit(X_tr)\n",
    "X_tr_std = sc.transform(X_tr)\n",
    "X_val_std = sc.transform(X_val)\n",
    "\n",
    "print('Training Set')\n",
    "mean = X_tr_std[:,0:5].mean(axis=0)\n",
    "std = X_tr_std[:,0:5].std(axis=0)\n",
    "for i in range(5):\n",
    "    print('Mean: {:.6f}\\tStandard Deviation: {:.6f}'.format(mean[i],std[i]))\n",
    "\n",
    "print('\\nValidation Set')\n",
    "mean = X_val_std[:,0:5].mean(axis=0)\n",
    "std = X_val_std[:,0:5].std(axis=0)\n",
    "for i in range(5):\n",
    "    print('Mean: {:.6f}\\tStandard Deviation: {:.6f}'.format(mean[i],std[i]))\n",
    "\n"
   ]
  },
  {
   "cell_type": "markdown",
   "metadata": {},
   "source": [
    "*Your answer goes here*"
   ]
  },
  {
   "cell_type": "markdown",
   "metadata": {},
   "source": [
    "The results are as expected. The mean of training data was transformed and then calcualted. The result is not exactly zero for mean of training data, but is almost zero (hence the minus sign). If the mean was printed with with default precision, one could see this easily. For example,"
   ]
  },
  {
   "cell_type": "code",
   "execution_count": 11,
   "metadata": {},
   "outputs": [
    {
     "data": {
      "text/plain": [
       "-3.3948530136650752e-17"
      ]
     },
     "execution_count": 11,
     "metadata": {},
     "output_type": "execute_result"
    }
   ],
   "source": [
    "X_tr_std[:,0].mean() # mean of the first trainign feature of training data after standardisation."
   ]
  },
  {
   "cell_type": "markdown",
   "metadata": {},
   "source": [
    "As expected the transformation of the validation set did not give perfect mean and standard deviation since it wasn't used to calculate mena and std.\n",
    "\n",
    "If we used the validation set to standardise the data, we would be introducing extra informationa about our test data in the model in form of test data's mean and std."
   ]
  },
  {
   "cell_type": "markdown",
   "metadata": {},
   "source": [
    "### ========== Question 1.10 --- [3 marks] ==========\n",
    "By using the transformed input data, train a new `LogisticRegression` classifier. Again, set the `solver` parameter to `lbfgs` and use default settings for the other parameters. Report the classification accuracy on both the training and validation sets.\n",
    "\n",
    "Comment on how your model compares to the baseline classifier from Question 1.6? You may use additional plot(s) to support your explanation."
   ]
  },
  {
   "cell_type": "code",
   "execution_count": 12,
   "metadata": {},
   "outputs": [
    {
     "name": "stdout",
     "output_type": "stream",
     "text": [
      "Classification accuracy on standardised training set:\t 0.651\n",
      "Classification accuracy on standardised validation set:\t 0.650\n"
     ]
    }
   ],
   "source": [
    "lr2 = LogisticRegression(solver='lbfgs')\n",
    "lr2.fit(X_tr_std,y_tr)\n",
    "print('Classification accuracy on standardised training set:\\t {:.3f}'.format(lr.score(X_tr_std, y_tr)))\n",
    "print('Classification accuracy on standardised validation set:\\t {:.3f}'.format(lr.score(X_val_std, y_val)))"
   ]
  },
  {
   "cell_type": "markdown",
   "metadata": {},
   "source": [
    "*Your answer goes here*"
   ]
  },
  {
   "cell_type": "markdown",
   "metadata": {},
   "source": [
    "The performance on both train and test data has improved in comparison to our baseline predictor."
   ]
  },
  {
   "cell_type": "markdown",
   "metadata": {},
   "source": [
    "### ========== Question 1.11 --- [1 mark] ==========\n",
    "So far we have used default settings for training the logistic regression classifier. Now, we want to use [K-fold cross-validation](http://scikit-learn.org/stable/modules/generated/sklearn.model_selection.KFold.html) to optimise the regularisation parameter `C`. The regularisation parameter controls the degree to which we wish to penalise large magnitudes in the weight vector. This can help us prevent overfitting but, if set too high, could lead us to underfit too.\n",
    "\n",
    "Create a 3-fold cross-validation object. Set the `shuffle` parameter to `True` and the `random_state` to `0`. By using the cross-validation iterator, display the number of test samples for each fold."
   ]
  },
  {
   "cell_type": "code",
   "execution_count": 13,
   "metadata": {},
   "outputs": [
    {
     "name": "stdout",
     "output_type": "stream",
     "text": [
      "Number of test samples for this fold is 698.\n",
      "Number of test samples for this fold is 698.\n",
      "Number of test samples for this fold is 697.\n"
     ]
    }
   ],
   "source": [
    "# Your code goes here\n",
    "from sklearn.model_selection import KFold\n",
    "kf = KFold(n_splits=3,shuffle=True,random_state=0)\n",
    "for _,test_index in kf.split(X_tr_std):\n",
    "    print('Number of test samples for this fold is {}.'.format(test_index.size))"
   ]
  },
  {
   "cell_type": "markdown",
   "metadata": {},
   "source": [
    "### ========== Question 1.12 --- [2 marks] ========== \n",
    "Using the cross-validation iterator from the previous question, perform a search for the best value for `C`. \n",
    "\n",
    "We are going to loop over each CV fold, and each value of `C`. The values of `C` to search should be 20 equally-spaced values **in log space** ranging from `1e-5` to `1e5` *(hint: look at the `logspace()` function in numpy)*. \n",
    "\n",
    "Create a 2-dimensional array and, for each cross-validation fold and parameter setting pair, compute and store the classification accuracy score e.g. store the score of fold 0 with parameter setting 1 at score_array[0,1]. As previously, set the `solver` parameter to `lbfgs` and use default settings for the other parameters (except for `C` obviously!).\n",
    "\n",
    "*(hint: you could use two loops in your code; one iterating over CV folds and another one iterating over the values for `C`)*. "
   ]
  },
  {
   "cell_type": "code",
   "execution_count": 14,
   "metadata": {
    "collapsed": true
   },
   "outputs": [],
   "source": [
    "from sklearn.model_selection import cross_val_score"
   ]
  },
  {
   "cell_type": "code",
   "execution_count": 15,
   "metadata": {
    "collapsed": true
   },
   "outputs": [],
   "source": [
    "cs = np.logspace(-5,5,20)\n",
    "arr = np.zeros((3,20))\n",
    "\n",
    "for i,c in enumerate(cs):\n",
    "    lgr = LogisticRegression(solver='lbfgs',C=c)\n",
    "    score = cross_val_score(lgr,X_tr_std,y_tr,cv=kf)\n",
    "    for fold in range(3):    # For wach fold\n",
    "        arr[fold,i] = score[fold]\n"
   ]
  },
  {
   "cell_type": "markdown",
   "metadata": {},
   "source": [
    "### ========== Question 1.13 --- [1 mark] ========== \n",
    "Plot the mean classification performance (across CV folds) of the logistic regression classifier against the regularisation parameter `C` by using the range from Question 1.12. Use a logarithmic scale for the x-axis and label both axes appropriately. "
   ]
  },
  {
   "cell_type": "code",
   "execution_count": 16,
   "metadata": {},
   "outputs": [
    {
     "data": {
      "image/png": "[encoded data removed]",
      "text/plain": [
       "<matplotlib.figure.Figure at 0x7f496b6ae150>"
      ]
     },
     "metadata": {},
     "output_type": "display_data"
    }
   ],
   "source": [
    "m = arr.mean(axis=0)\n",
    "f = plt.figure(figsize=(8,8))\n",
    "ax = plt.gca()\n",
    "plt.xscale('log')\n",
    "plt.plot(cs,m)\n",
    "plt.scatter(cs,m)\n",
    "plt.xlim(-5.5,)\n",
    "plt.xlabel('C')\n",
    "plt.ylabel('Score')\n",
    "plt.title('C (regularisation parameter) vs Score')\n",
    "plt.show()"
   ]
  },
  {
   "cell_type": "markdown",
   "metadata": {},
   "source": [
    "### ========== Question 1.14 --- [2 marks] ==========\n",
    "Display the optimal value for the regularisation parameter `C` determined by the search results from Question 1.12. Similarly to Question 1.13, consider the mean classifiation accuracy across CV folds. By using the optimal value (i.e. the one that yields the highest average classification accuracy) train a new `LogisticRegression` classifier and report the classification accuracy on the validation set. *(Hint: Do not pick the optimal value \"by hand\", instead use an appropriate numpy function).*"
   ]
  },
  {
   "cell_type": "code",
   "execution_count": 17,
   "metadata": {},
   "outputs": [
    {
     "name": "stdout",
     "output_type": "stream",
     "text": [
      "The optimal value for C is 0.00428133.\n",
      "Classification accuracy on validation set with optimal c = 0.00428133 is 0.696.\n"
     ]
    }
   ],
   "source": [
    "optimal_c = cs[m.argmax()]\n",
    "print('The optimal value for C is {:.8f}.'.format(optimal_c))\n",
    "lgr2 = LogisticRegression(solver='lbfgs',C=optimal_c)\n",
    "lgr2.fit(X_tr_std,y_tr)\n",
    "print('Classification accuracy on validation set with optimal c = {:.8f} is {:.3f}.'.\n",
    "      format(optimal_c,lgr2.score(X_val_std,y_val)))\n"
   ]
  },
  {
   "cell_type": "markdown",
   "metadata": {},
   "source": [
    "### ========== Question 1.15 --- [1 mark] ========== \n",
    "Scikit-learn offers a [`LogisticRegressionCV`](http://scikit-learn.org/0.17/modules/generated/sklearn.linear_model.LogisticRegressionCV.html) module which implements Logistic Regression with builtin cross-validation to find out the optimal `C` parameter. You can specify the range for the `C` parameter, as well as the cross-validation method you want to use with the `Cs` and `cv` parameters, respectively. Use the `C` range you set up in Question 1.12 and the 3-fold cross-validation iterator from Question 1.11. Once again, train the models by using the `lbfgs` optimisation method and display the optimal value for the parameter `C`. Finally, display the classification accuracy on the validation set. Check your results are consistent with those from Question 1.14!"
   ]
  },
  {
   "cell_type": "code",
   "execution_count": 18,
   "metadata": {},
   "outputs": [
    {
     "name": "stdout",
     "output_type": "stream",
     "text": [
      "The optimal value for C is 0.00428133.\n",
      "The classification accuracy is 0.696.\n"
     ]
    }
   ],
   "source": [
    "from sklearn.linear_model import LogisticRegressionCV\n",
    "lrcv = LogisticRegressionCV(solver='lbfgs',Cs = cs,cv=kf)\n",
    "lrcv.fit(X_tr_std,y_tr)\n",
    "print('The optimal value for C is {:.8f}.'.format(lrcv.C_[0]))\n",
    "print('The classification accuracy is {:.3f}.'.format(lrcv.score(X_val_std,y_val)))"
   ]
  },
  {
   "cell_type": "markdown",
   "metadata": {},
   "source": [
    "The results are consistent with Q1.14"
   ]
  },
  {
   "cell_type": "markdown",
   "metadata": {},
   "source": [
    "### ========== Question 1.16 --- [1 mark] ==========\n",
    "Now, we want to validate the importance of various features for classification. For this purpose, we will use a [`RandomForestClassifier`](http://scikit-learn.org/stable/modules/generated/sklearn.ensemble.RandomForestClassifier.html) (you might want to refer to the labs if you are unsure how we can estimate feature importances with decision tree and random forest models).\n",
    "\n",
    "Initialise a random forest classifier and fit the model by using training data only and 500 trees (i.e. `n_estimators`). Set the `RandomState` equal to 42 to ensure reproducible results. Report the accuracy score on both the training and validation sets."
   ]
  },
  {
   "cell_type": "code",
   "execution_count": 19,
   "metadata": {},
   "outputs": [
    {
     "name": "stdout",
     "output_type": "stream",
     "text": [
      "Training set\tAccuracy Score: 1.000\n",
      "Validation set\tAccuracy Score: 0.693\n"
     ]
    }
   ],
   "source": [
    "from sklearn.ensemble import RandomForestClassifier\n",
    "rf = RandomForestClassifier(n_estimators=500,random_state=42) # Leaving default criterion = gini \n",
    "rf.fit(X_tr_std,y_tr)\n",
    "print('Training set\\tAccuracy Score: {:.3f}'.format(rf.score(X_tr_std,y_tr)))\n",
    "print('Validation set\\tAccuracy Score: {:.3f}'.format(rf.score(X_val_std,y_val)))"
   ]
  },
  {
   "cell_type": "markdown",
   "metadata": {},
   "source": [
    "### ========== Question 1.17 --- [2 marks] ==========\n",
    "Comment on the results above. Do you find the discrepancy between training and validation accuracies surprising?"
   ]
  },
  {
   "cell_type": "markdown",
   "metadata": {},
   "source": [
    "I do not find the discrepancy surprising as one could expect perfect accuracy on the training set when using a decison tree based classifier. "
   ]
  },
  {
   "cell_type": "markdown",
   "metadata": {},
   "source": [
    "### ========== Question 1.18 --- [2 marks] ==========\n",
    "By using the random forest model from the previous question order the features by descending importance and display the names of the 50 most important features."
   ]
  },
  {
   "cell_type": "code",
   "execution_count": 20,
   "metadata": {},
   "outputs": [
    {
     "name": "stdout",
     "output_type": "stream",
     "text": [
      "50 Most important features:\n",
      "\n",
      "1.\tdim21\n",
      "2.\tdim51\n",
      "3.\tdim360\n",
      "4.\tdim4\n",
      "5.\tdim479\n",
      "6.\tdim76\n",
      "7.\tdim283\n",
      "8.\tdim461\n",
      "9.\tdim343\n",
      "10.\tdim398\n",
      "11.\tdim348\n",
      "12.\tdim74\n",
      "13.\tdim485\n",
      "14.\tdim356\n",
      "15.\tdim330\n",
      "16.\tdim217\n",
      "17.\tdim263\n",
      "18.\tdim222\n",
      "19.\tdim134\n",
      "20.\tdim500\n",
      "21.\tdim274\n",
      "22.\tdim254\n",
      "23.\tdim206\n",
      "24.\tdim423\n",
      "25.\tdim347\n",
      "26.\tdim17\n",
      "27.\tdim326\n",
      "28.\tdim90\n",
      "29.\tdim92\n",
      "30.\tdim329\n",
      "31.\tdim214\n",
      "32.\tdim322\n",
      "33.\tdim289\n",
      "34.\tdim54\n",
      "35.\tdim440\n",
      "36.\tdim427\n",
      "37.\tdim73\n",
      "38.\tdim35\n",
      "39.\tdim77\n",
      "40.\tdim312\n",
      "41.\tdim315\n",
      "42.\tdim96\n",
      "43.\tdim288\n",
      "44.\tdim483\n",
      "45.\tdim299\n",
      "46.\tdim48\n",
      "47.\tdim442\n",
      "48.\tdim201\n",
      "49.\tdim344\n",
      "50.\tdim294\n"
     ]
    }
   ],
   "source": [
    "args = rf.feature_importances_.argsort()[::-1][:50]\n",
    "print('50 Most important features:\\n')\n",
    "for j,i in enumerate(X_tr.columns[args]):\n",
    "    print('{}.\\t{}'.format(j+1,i))"
   ]
  },
  {
   "cell_type": "markdown",
   "metadata": {},
   "source": [
    "### ========== Question 1.19 --- [3 marks] ==========\n",
    "Next, we would like to test the performance of support vector machines. Train three support vector classifiers with the following kernels: linear, radial basis function, and polynomial. Report the classification accuracy of each of the three classifiers on both the training and validation sets."
   ]
  },
  {
   "cell_type": "code",
   "execution_count": 21,
   "metadata": {},
   "outputs": [
    {
     "name": "stdout",
     "output_type": "stream",
     "text": [
      "SVC Linear Kernel\n",
      "\n",
      "Training set\tAccuracy Score: 0.842\n",
      "Validation set\tAccuracy Score: 0.639\n",
      "\n",
      "SVC rbf Kernel\n",
      "\n",
      "Training set\tAccuracy Score: 0.911\n",
      "Validation set\tAccuracy Score: 0.730\n",
      "\n",
      "SVC poly Kernel\n",
      "\n",
      "Training set\tAccuracy Score: 0.991\n",
      "Validation set\tAccuracy Score: 0.702\n",
      "\n"
     ]
    }
   ],
   "source": [
    "svc_linear = SVC(kernel='linear')\n",
    "svc_linear.fit(X_tr_std,y_tr)\n",
    "svc_rbf = SVC(kernel='rbf')\n",
    "svc_rbf.fit(X_tr_std, y_tr)\n",
    "svc_poly = SVC(kernel='poly')\n",
    "svc_poly.fit(X_tr_std, y_tr)\n",
    "\n",
    "print('SVC Linear Kernel\\n')\n",
    "print('Training set\\tAccuracy Score: {:.3f}'.format(svc_linear.score(X_tr_std,y_tr)))\n",
    "print('Validation set\\tAccuracy Score: {:.3f}\\n'.format(svc_linear.score(X_val_std,y_val)))\n",
    "\n",
    "print('SVC rbf Kernel\\n')\n",
    "print('Training set\\tAccuracy Score: {:.3f}'.format(svc_rbf.score(X_tr_std,y_tr)))\n",
    "print('Validation set\\tAccuracy Score: {:.3f}\\n'.format(svc_rbf.score(X_val_std,y_val)))\n",
    "\n",
    "print('SVC poly Kernel\\n')\n",
    "print('Training set\\tAccuracy Score: {:.3f}'.format(svc_poly.score(X_tr_std,y_tr)))\n",
    "print('Validation set\\tAccuracy Score: {:.3f}\\n'.format(svc_poly.score(X_val_std,y_val)))"
   ]
  },
  {
   "cell_type": "markdown",
   "metadata": {},
   "source": [
    "### ========== Question 1.20 --- [3 marks] ==========\n",
    "At this point, we would like to get an idea of what kind of decision boundaries we can get with the three types of SVM kernels we introduced in the previous question. For visualisation, however, we can only make use of 2D input data. For this purpose, we select to use the 21st and 76th columns of our training features (*hint: remember that Python uses 0-based indexing*). \n",
    "\n",
    "Execute the cell below to define a useful function which we will be using to plot the decision boundaries *(it is also not a bad idea to try to understand what this functions does)*. \n",
    "\n",
    "Then train three distinct SVM classifiers by using the 2D input data mentioned above and default parameters:\n",
    "* a linear SVC\n",
    "* an RBF SVC \n",
    "* a polynomial SVC\n",
    "\n",
    "Finally, create a list containing the three classifiers you have just trained. Use this list as an input to the provided function along with the used training features and observe the outcome. You can use the additional `title` parameter to set the titles in the subplots. Comment on the shape of the boundaries and what this means for classification accuracy in 1-2 sentences.\n",
    "\n",
    "*(Acknowledgement: this Question has been heavily based on [this example](http://scikit-learn.org/0.17/auto_examples/svm/plot_iris.html) from scikit-learn's documentation.)*"
   ]
  },
  {
   "cell_type": "code",
   "execution_count": 22,
   "metadata": {
    "collapsed": true
   },
   "outputs": [],
   "source": [
    "def show_svc_decision_boundaries(clfs, X, title=None):\n",
    "    \"\"\"Plots decision boundaries for classifiers with 2D inputs.\n",
    "    \n",
    "    Parameters\n",
    "    ----------\n",
    "    clf : list\n",
    "        Classifiers for which decision boundaries will be displayed.\n",
    "    X : array\n",
    "        Input features used to train the classifiers.\n",
    "    title : list, optional\n",
    "        Titles for classifiers.\n",
    "    \n",
    "    \"\"\"\n",
    "    \n",
    "    assert X.shape[1] == 2 # Input should be 2D\n",
    "    if title is not None:\n",
    "        assert len(clfs) == len(title)\n",
    "    \n",
    "    h = .04 # step size in the mesh\n",
    "    x_min, x_max = X[:, 0].min() - 1, X[:, 0].max() + 1\n",
    "    y_min, y_max = X[:, 1].min() - 1, X[:, 1].max() + 1\n",
    "    xx, yy = np.meshgrid(np.arange(x_min, x_max, h),\n",
    "                         np.arange(y_min, y_max, h))\n",
    "    plt.figure(figsize=(15,5))\n",
    "    for i, clf in enumerate(clfs):\n",
    "        plt.subplot(1, len(clfs), i + 1)\n",
    "        plt.subplots_adjust(wspace=0.4, hspace=0.4)\n",
    "        Z = clf.predict(np.c_[xx.ravel(), yy.ravel()])\n",
    "        Z = Z.reshape(xx.shape)\n",
    "        plt.contourf(xx, yy, Z, cmap=plt.cm.Paired, alpha=0.8)\n",
    "        # Training points\n",
    "        plt.scatter(X[:, 0], X[:, 1], c=y_tr, cmap=plt.cm.Paired)\n",
    "        plt.xlabel('Feature 1')\n",
    "        plt.ylabel('Feature 2')\n",
    "        plt.xlim(xx.min(), xx.max())\n",
    "        plt.ylim(yy.min(), yy.max())\n",
    "        plt.xticks(())\n",
    "        plt.yticks(())\n",
    "        if title is not None:\n",
    "            plt.title(title[i])"
   ]
  },
  {
   "cell_type": "code",
   "execution_count": 23,
   "metadata": {},
   "outputs": [
    {
     "data": {
      "image/png": "[encoded data removed]",
      "text/plain": [
       "<matplotlib.figure.Figure at 0x7f49668ded50>"
      ]
     },
     "metadata": {},
     "output_type": "display_data"
    }
   ],
   "source": [
    "X = X_tr_std[:,[20,75]]\n",
    "\n",
    "svc_linear1 = SVC(kernel='linear')\n",
    "svc_linear1.fit(X,y_tr)\n",
    "\n",
    "svc_rbf1 = SVC(kernel='rbf')\n",
    "svc_rbf1.fit(X,y_tr)\n",
    "\n",
    "svc_poly1 = SVC(kernel='poly')\n",
    "svc_poly1.fit(X,y_tr)\n",
    "\n",
    "clfs = [svc_linear1,svc_rbf1,svc_poly1]\n",
    "\n",
    "show_svc_decision_boundaries(clfs, X,['Linear','RBF','POLY'])\n",
    "\n"
   ]
  },
  {
   "cell_type": "markdown",
   "metadata": {},
   "source": [
    "The decision boundaries for the linear SVC is clearly linear. The decision boundary for RBF and POLY are expectedly non-linear. rbf and poly allow a more flexible decision boundary and hence a better fit in case data is not linearly seperable.\n",
    "\n"
   ]
  },
  {
   "cell_type": "markdown",
   "metadata": {},
   "source": [
    "### ========== Question 1.21 --- [5 marks] ==========\n",
    "So far we have used default parameters for training the SVM classifiers. Now we want to tune the parameters by using cross-validation. \n",
    "\n",
    "By using the `K-fold` iterator from Question 1.11 and training data only, estimate the classification accuracy of an SVM classifier with RBF kernel, while you vary the penalty parameter `C` in a logarithmic range `np.logspace(-2, 3, 10)`. Set the kernel coefficient parameter `gamma` to `auto` for this question. \n",
    "\n",
    "Plot the mean cross-validated classification accuracy against the regularisation parameter `C` by using a log-scale for the x-axis. Display the highest obtained mean accuracy score and the value of `C` which yielded it. Label axes appropriately. \n",
    "\n",
    "Finally, train a classifier by using the optimal value for this parameter (without using cross-validation at this stage) and report the classification accuracy on the training and validation sets. "
   ]
  },
  {
   "cell_type": "code",
   "execution_count": 24,
   "metadata": {
    "collapsed": true
   },
   "outputs": [],
   "source": [
    "cs2 = np.logspace(-2,3,10)\n",
    "arr2 = np.zeros((3,10))\n",
    "\n",
    "for i,c in enumerate(cs2):\n",
    "    svm = SVC(kernel='rbf', gamma='auto', C=c)\n",
    "    score = cross_val_score(svm,X_tr_std,y_tr,cv=kf)\n",
    "    for fold in range(3):    # For each fold\n",
    "        arr2[fold,i] = score[fold]\n"
   ]
  },
  {
   "cell_type": "code",
   "execution_count": 25,
   "metadata": {},
   "outputs": [
    {
     "data": {
      "image/png": "[encoded data removed]",
      "text/plain": [
       "<matplotlib.figure.Figure at 0x7f4964bfa910>"
      ]
     },
     "metadata": {},
     "output_type": "display_data"
    }
   ],
   "source": [
    "m2 = arr2.mean(axis=0)\n",
    "f2 = plt.figure(figsize=(8,8))\n",
    "ax = plt.gca()\n",
    "plt.xscale('log')\n",
    "plt.scatter(cs2,m2)\n",
    "plt.plot(cs2,m2)\n",
    "plt.xlim(-2.5,)\n",
    "plt.xlabel('C')\n",
    "plt.ylabel('Score')\n",
    "plt.title('C (regularisation parameter) vs Score')\n",
    "plt.show()"
   ]
  },
  {
   "cell_type": "code",
   "execution_count": 26,
   "metadata": {},
   "outputs": [
    {
     "name": "stdout",
     "output_type": "stream",
     "text": [
      "Highest mean value score for C = 1.66810054  is 0.715.\n",
      "Classification accuracy on training set with optimal C = 1.66810054 is 0.975.\n",
      "Classification accuracy on validation set with optimal C = 1.66810054 is 0.728.\n"
     ]
    }
   ],
   "source": [
    "optimal_c2 = cs2[m2.argmax()]\n",
    "print('Highest mean value score for C = {:.8f}  is {:.3f}.'.format(optimal_c2,m2.max()))\n",
    "svm2 = SVC(kernel='rbf',C=optimal_c2)\n",
    "svm2.fit(X_tr_std,y_tr)\n",
    "print('Classification accuracy on training set with optimal C = {:.8f} is {:.3f}.'.\n",
    "      format(optimal_c2,svm2.score(X_tr_std,y_tr)))\n",
    "print('Classification accuracy on validation set with optimal C = {:.8f} is {:.3f}.'.\n",
    "      format(optimal_c2,svm2.score(X_val_std,y_val)))"
   ]
  },
  {
   "cell_type": "markdown",
   "metadata": {},
   "source": [
    "### ========== Question 1.22 --- [5 marks] ==========\n",
    "Now we turn to the kernel coefficient `gamma` parameter. By using the same procedure as in the previous question, estimate the classification accuracy of an SVM classifier with RBF kernel while you vary the `gamma` parameter in a logarithmic range `logspace(-5, 0, 10)`. Fix the penalty parameter `C=1.0`.\n",
    "\n",
    "Plot the mean cross-validated classification accuracy against the parameter `gamma` by using a log-scale for the x-axis. Display the highest obtained mean accuracy score and the value of `gamma` which yielded it.  Label axes appropriately.\n",
    "\n",
    "Finally, train a classifier by using the optimal value for this parameter (without using cross-validation at this stage) and report the classification accuracy on the training and validation sets. "
   ]
  },
  {
   "cell_type": "code",
   "execution_count": 27,
   "metadata": {
    "collapsed": true
   },
   "outputs": [],
   "source": [
    "cs3 = np.logspace(-5,0,10)\n",
    "arr3 = np.zeros((3,10))\n",
    "\n",
    "for i,c in enumerate(cs3):\n",
    "    svm = SVC(kernel='rbf', gamma=c, C=1.0)\n",
    "    score = cross_val_score(svm,X_tr_std,y_tr,cv=kf)\n",
    "    for fold in range(3):    # For each fold\n",
    "        arr3[fold,i] = score[fold]\n"
   ]
  },
  {
   "cell_type": "code",
   "execution_count": 28,
   "metadata": {},
   "outputs": [
    {
     "data": {
      "image/png": "[encoded data removed]",
      "text/plain": [
       "<matplotlib.figure.Figure at 0x7f4964978790>"
      ]
     },
     "metadata": {},
     "output_type": "display_data"
    }
   ],
   "source": [
    "m3 = arr3.mean(axis=0)\n",
    "f3 = plt.figure(figsize=(8,8))\n",
    "ax = plt.gca()\n",
    "plt.xscale('log')\n",
    "plt.scatter(cs3,m3)\n",
    "plt.plot(cs3,m3)\n",
    "plt.xlim(-5.5,)\n",
    "plt.xlabel('Gamma')\n",
    "plt.ylabel('Score')\n",
    "plt.title('Gamma vs Score')\n",
    "plt.show()"
   ]
  },
  {
   "cell_type": "code",
   "execution_count": 29,
   "metadata": {},
   "outputs": [
    {
     "name": "stdout",
     "output_type": "stream",
     "text": [
      "Highest mean value score for gamma = 0.00166810  is 0.716.\n",
      "Classification accuracy on training set with optimal gamma = 0.00166810 is 0.891.\n",
      "Classification accuracy on validation set with optimal gamma = 0.00166810 is 0.727.\n"
     ]
    }
   ],
   "source": [
    "optimal_c3 = cs3[m3.argmax()]\n",
    "print('Highest mean value score for gamma = {:.8f}  is {:.3f}.'.format(optimal_c3,m3.max()))\n",
    "svm3 = SVC(kernel='rbf',C=1.0,gamma=optimal_c3)\n",
    "svm3.fit(X_tr_std,y_tr)\n",
    "print('Classification accuracy on training set with optimal gamma = {:.8f} is {:.3f}.'.\n",
    "      format(optimal_c3,svm3.score(X_tr_std,y_tr)))\n",
    "print('Classification accuracy on validation set with optimal gamma = {:.8f} is {:.3f}.'.\n",
    "      format(optimal_c3,svm3.score(X_val_std,y_val)))"
   ]
  },
  {
   "cell_type": "markdown",
   "metadata": {},
   "source": [
    "### ========== Question 1.23 --- [7 marks] ==========\n",
    "Now we wish to tune both the `C` and `gamma` parameters simultaneously. To save computational time, we will now constrain the parameter search space. Define a `4 X 4` grid for the two parameters, as follows:\n",
    "* `C`: `np.logspace(-2, 1, 4)`\n",
    "* `gamma`: `np.logspace(-4, -1, 4)`\n",
    "\n",
    "Estimate the mean cross-validated classification accuracy by using training data only and all possible configurations for the two parameters. \n",
    "\n",
    "Use a [heatmap](https://seaborn.github.io/generated/seaborn.heatmap.html?highlight=heatmap#seaborn.heatmap) to visualise the mean cross-validated classification accuracy for all `C`-`gamma` pairs. Label axes appropriately and display the values for `C` and `gamma` for the best performing configuration. \n",
    "\n",
    "Finally, by using the optimal configuration, train a classifier (without using cross-validation) and report the classification accuracy on the training and validation sets."
   ]
  },
  {
   "cell_type": "code",
   "execution_count": 30,
   "metadata": {
    "collapsed": true
   },
   "outputs": [],
   "source": [
    "C = np.logspace(-2,1,4)\n",
    "gamma = np.logspace(-4,-1,4)\n",
    "\n",
    "arr4 = np.zeros((4,4))\n",
    "for i,c in enumerate(C):\n",
    "    for j,g in enumerate(gamma):\n",
    "        svm4 = SVC(kernel='rbf',C=c,gamma=g)\n",
    "        score = cross_val_score(svm4,X_tr_std,y_tr,cv=kf)\n",
    "        arr4[i,j] = score.mean()"
   ]
  },
  {
   "cell_type": "code",
   "execution_count": 31,
   "metadata": {},
   "outputs": [
    {
     "data": {
      "image/png": "[encoded data removed]",
      "text/plain": [
       "<matplotlib.figure.Figure at 0x7f4956f0f2d0>"
      ]
     },
     "metadata": {},
     "output_type": "display_data"
    },
    {
     "name": "stdout",
     "output_type": "stream",
     "text": [
      "Best configuration: C = 1.0 gamma = 0.001\n",
      "Classification accuracy on training set = 0.835.\n",
      "Classification accuracy on validation set = 0.721.\n"
     ]
    }
   ],
   "source": [
    "sns.heatmap(data=arr4,xticklabels=gamma, yticklabels=C,vmin=0., vmax=1., annot=True)\n",
    "plt.xlabel('Gamma')\n",
    "plt.ylabel('C')\n",
    "plt.show()\n",
    "highest_index = np.unravel_index(arr4.argmax(),arr4.shape)\n",
    "print('Best configuration: C = {} gamma = {}'.format(C[highest_index[0]],gamma[highest_index[1]]))\n",
    "\n",
    "classifier = SVC(kernel='rbf',C=C[highest_index[0]],gamma=gamma[highest_index[1]])\n",
    "classifier.fit(X_tr_std,y_tr)\n",
    "print('Classification accuracy on training set = {:.3f}.'.\n",
    "      format(classifier.score(X_tr_std,y_tr)))\n",
    "print('Classification accuracy on validation set = {:.3f}.'.\n",
    "      format(classifier.score(X_val_std,y_val)))"
   ]
  },
  {
   "cell_type": "markdown",
   "metadata": {},
   "source": [
    "### ========== Question 1.24 --- [3 marks] ==========\n",
    "Is the classification accuracy on the validation set higher than in previous questions (1.22-1.23)? If not, can you explain why? Can you think of a way of further improving the performance of the classifier? You don't need to implement your suggestion at this stage. Would there be any associated problems with your suggested approach? "
   ]
  },
  {
   "cell_type": "markdown",
   "metadata": {},
   "source": [
    "No, the classification accuaracy on validation set is not higher than in previous questions. The accuracay is comparable.\n",
    "\n",
    "This is because gamma defines how far the influence of a single example reaches and C defines the complexity of decision surface. Both work in tandem with each other and can be adjusted to improve an overfitting or an underfitting model.  Note that when trying to find the best fit for gamma, C was set to 1.0 and the optimal we found was indeed 0.0016 which is very near 0.001 found above.\n",
    "\n",
    "We can set our grid space to be wider to get a better configuration but it will cost us computation time."
   ]
  },
  {
   "cell_type": "markdown",
   "metadata": {},
   "source": [
    "### ========== Question 1.25 --- [5 marks] ==========\n",
    "Now we want to evaluate the performance of an SVM classifier with polynomial kernel. Once again, we will tune the `degree` parameter by using cross-validation (similarly to what we did in Questions 1.21 and 1.22).\n",
    "\n",
    "By using the `K-fold` iterator from Question 1.11 and training data only, estimate the classification accuracy of polynomial SVM classifier, while you vary the `degree` parameter in the range `np.arange(1,8)`. \n",
    "\n",
    "Plot the mean cross-validated classification accuracy against the polynomial degree. Display the highest obtained mean accuracy score and the value of the `degree` parameter which yielded it. Label axes appropriately. \n",
    "\n",
    "Finally, train a classifier by using the optimal value for this parameter (without using cross-validation at this stage) and report the classification accuracy on the training and validation sets. "
   ]
  },
  {
   "cell_type": "code",
   "execution_count": 32,
   "metadata": {
    "collapsed": true
   },
   "outputs": [],
   "source": [
    "degrees = np.arange(1,8)\n",
    "m4 = np.zeros(7)\n",
    "for i,degree in enumerate(degrees):\n",
    "    svmPoly = SVC(kernel='poly', degree=degree)\n",
    "    score = cross_val_score(svmPoly,X_tr_std,y_tr,cv=kf)\n",
    "    m4[i] = score.mean()"
   ]
  },
  {
   "cell_type": "code",
   "execution_count": 33,
   "metadata": {},
   "outputs": [
    {
     "data": {
      "image/png": "[encoded data removed]",
      "text/plain": [
       "<matplotlib.figure.Figure at 0x7f4956e3f710>"
      ]
     },
     "metadata": {},
     "output_type": "display_data"
    },
    {
     "name": "stdout",
     "output_type": "stream",
     "text": [
      "Highest mean value score for degree = 1  is 0.703.\n",
      "Classification accuracy on training set with optimal degree = 1 is 0.784.\n",
      "Classification accuracy on validation set with optimal degree = 1 is 0.689.\n"
     ]
    }
   ],
   "source": [
    "f4 = plt.figure(figsize=(8,8))\n",
    "ax = plt.gca()\n",
    "plt.scatter(degrees,m4)\n",
    "plt.plot(degrees,m4)\n",
    "plt.xlabel('Degree')\n",
    "plt.ylabel('Score')\n",
    "plt.title('Degree vs Score')\n",
    "plt.show()\n",
    "\n",
    "optimal_degree = degrees[m4.argmax()]\n",
    "print('Highest mean value score for degree = {:.0f}  is {:.3f}.'.format(optimal_degree,m4.max()))\n",
    "svm5 = SVC(kernel='poly', degree=optimal_degree)\n",
    "svm5.fit(X_tr_std,y_tr)\n",
    "print('Classification accuracy on training set with optimal degree = {:.0f} is {:.3f}.'.\n",
    "      format(optimal_degree,svm5.score(X_tr_std,y_tr)))\n",
    "print('Classification accuracy on validation set with optimal degree = {:.0f} is {:.3f}.'.\n",
    "      format(optimal_degree,svm5.score(X_val_std,y_val)))"
   ]
  },
  {
   "cell_type": "markdown",
   "metadata": {},
   "source": [
    "### ========== Question 1.26 --- [4 marks] ==========\n",
    "\n",
    "You might have noticted that so far, we have used cross-validation for optimising the various tuning parameters (e.g. regularisation parameter in logistic regression, SVM kernel parameters) rather than hold-out validation, although we did have access to a validation set. Why do you think this is a good/bad idea? Give one advantage and one disadvantage of the two different approaches. Which one would you trust more in practice?"
   ]
  },
  {
   "cell_type": "markdown",
   "metadata": {},
   "source": [
    "This is a good idea -  \n",
    "1. By leaving out test data and doind CV on training data, we don't introduce any information about our test data in our model.\n",
    "2. K-fold is prone to less variation because it uses the entire training set\n",
    "\n",
    "Hold-out\n",
    "\n",
    "Advantage: lower computation cost. faster.\n",
    "\n",
    "Disadvantage: not effective for small data size\n",
    "\n",
    "K-fold\n",
    "\n",
    "Advantage: prone to less variation , better for smaller data size\n",
    "\n",
    "Disadvantage: high computation cost. slower\n",
    "\n",
    "In practice, I would use a K-fold validation if it is practically feasible (size of data, time, proper splitting possible). With large amounts of data available however, hold out validation may be chosen. Sometimes, its just simpler to carry out hold-out validation (as it is used in literature often). "
   ]
  },
  {
   "cell_type": "markdown",
   "metadata": {},
   "source": [
    "### ========== Question 1.27 --- [6 marks] ==========\n",
    "\n",
    "Reload the full training and validation data that contain all indicator variables for all object categories. Remove the `imgId` attribute but keep all of the class indicator variables in the dataset this time. Your training features should include all attributes except `is_person` which should be your target variable. \n",
    "\n",
    "Once again, use a [StandardScaler](http://scikit-learn.org/0.17/modules/generated/sklearn.preprocessing.StandardScaler.html) to standardise your training and validation features. Then train a Random Forest Classifier by using the entropy `criterion`, 500 `n_estimators`, and also set the `random_state` to 31. Report the classification accuracy on the training and validation sets.\n",
    "\n",
    "Similarly to what we did in Question 1.18, order the features by decreasing importance and display the 50 most important features. \n",
    "\n",
    "Finally, answer the following questions:\n",
    "* What do you notice by looking at the list of the best 50 features?\n",
    "* How does the performance differ with respect to the case when the additional class indicator variables are not present (Question 1.16)? Relate your observations to the observed feature ranking.\n",
    "* Would it be easy to make use of the results in practice? Briey explain your reasoning.\n",
    "\n",
    "*(Hint: you might want to look at some of the [images](http://www.inf.ed.ac.uk/teaching/courses/iaml/2014/assts/asst3/images.html) to justify your explanations.)*"
   ]
  },
  {
   "cell_type": "code",
   "execution_count": 34,
   "metadata": {},
   "outputs": [
    {
     "name": "stdout",
     "output_type": "stream",
     "text": [
      "Classification accuracy on training data: 1.0\n",
      "Classification accuracy on validation data: 0.711590296496\n",
      "50 Most important features:\n",
      "\n",
      "1.\tis_cat\n",
      "2.\tis_bird\n",
      "3.\tdim21\n",
      "4.\tdim51\n",
      "5.\tdim360\n",
      "6.\tdim4\n",
      "7.\tdim76\n",
      "8.\tdim398\n",
      "9.\tdim283\n",
      "10.\tdim479\n",
      "11.\tdim263\n",
      "12.\tdim343\n",
      "13.\tdim423\n",
      "14.\tdim485\n",
      "15.\tdim254\n",
      "16.\tdim461\n",
      "17.\tdim222\n",
      "18.\tdim356\n",
      "19.\tdim74\n",
      "20.\tdim288\n",
      "21.\tdim214\n",
      "22.\tdim348\n",
      "23.\tdim330\n",
      "24.\tdim217\n",
      "25.\tdim483\n",
      "26.\tdim90\n",
      "27.\tdim274\n",
      "28.\tdim347\n",
      "29.\tdim17\n",
      "30.\tdim427\n",
      "31.\tdim35\n",
      "32.\tdim326\n",
      "33.\tdim73\n",
      "34.\tdim312\n",
      "35.\tdim48\n",
      "36.\tdim25\n",
      "37.\tdim315\n",
      "38.\tdim322\n",
      "39.\tdim329\n",
      "40.\tdim500\n",
      "41.\tdim134\n",
      "42.\tdim206\n",
      "43.\tis_aeroplane\n",
      "44.\tdim96\n",
      "45.\tdim353\n",
      "46.\tdim442\n",
      "47.\tdim77\n",
      "48.\tdim440\n",
      "49.\tdim171\n",
      "50.\tdim154\n"
     ]
    }
   ],
   "source": [
    "X_train = train_A.drop(['imgId','is_person'],axis=1)\n",
    "y_train = train_A['is_person']\n",
    "\n",
    "X_valid = valid_A.drop(['imgId','is_person'],axis=1)\n",
    "y_valid = valid_A['is_person']\n",
    "\n",
    "sc1 = StandardScaler()\n",
    "sc1.fit(X_train)\n",
    "X_train_std = sc1.transform(X_train)\n",
    "X_valid_std = sc1.transform(X_valid)\n",
    "\n",
    "rf1 = RandomForestClassifier(n_estimators=500,random_state=31,criterion='entropy')\n",
    "rf1.fit(X_train_std,y_train)\n",
    "print('Classification accuracy on training data: {}'.format(rf1.score(X_train_std,y_train)))\n",
    "print('Classification accuracy on validation data: {}'.format(rf1.score(X_valid_std,y_valid)))\n",
    "\n",
    "args1 = rf1.feature_importances_.argsort()[::-1][:50]\n",
    "print('50 Most important features:\\n')\n",
    "for j,i in enumerate(X_train.columns[args1]):\n",
    "    print('{}.\\t{}'.format(j+1,i))"
   ]
  },
  {
   "cell_type": "markdown",
   "metadata": {},
   "source": [
    "*Your answer goes here*\n",
    "1. I notice that some is_class attributes have high importance, which means including is_class attributes in our training data should have an impact on our classifier.\n",
    "2. The performance has improves a little. clearly, this must be because we included is_class attributes. In fact if we look at the images, we notice that if there is an aeroplane in the picture, chances of a person being there is little. And similarly for cat and bird.\n",
    "3. It wouldn't be easy to use these results in practice as is_class attributes themselves are labels and we might have to do work to find their value in the first place."
   ]
  },
  {
   "cell_type": "markdown",
   "metadata": {},
   "source": [
    "## Mini challenge [30%]"
   ]
  },
  {
   "cell_type": "markdown",
   "metadata": {},
   "source": [
    "*Important: You are allowed to write up to a maximum of 600 words in this part of the assignment. The thoroughness of the exploration and the quality of the resulting discussion is just as important as the final classification performance of your chosen method(s) and credit will be divided accordingly.*"
   ]
  },
  {
   "cell_type": "markdown",
   "metadata": {},
   "source": [
    "In this final part of the assignment we will have a mini object-recognition challenge. Using the data provided you are asked to find the best classiffier for the person/no person classification task. You can apply any preprocessing steps to the data that you think fit and employ any classifier you like (with the provison that you can explain what the classifier is/preprocessing steps are doing). You can also employ any lessons learnt during the course, either from previous Assignments, the Labs or the lecture material to try and squeeze out as much performance as you possibly can. The only restriction is that all steps must be performed in `Python` by using the `numpy`, `pandas` and `sklearn` packages. You can also make use of `matplotlib` and `seaborn` for visualisation. "
   ]
  },
  {
   "cell_type": "markdown",
   "metadata": {},
   "source": [
    "**Important:** The classification performance metric that we will use for this part is the *cross-entropy* or *logarithmic loss* (see the labs). You should familiarise yourself with the metric by reading the `sklearn` [user guide](http://scikit-learn.org/stable/modules/model_evaluation.html#log-loss) and [documentation](http://scikit-learn.org/stable/modules/generated/sklearn.metrics.log_loss.html#sklearn.metrics.log_loss). To estimate this metric you will need to evaluate probability outputs, as opposed to discrete predictions which we have used so far to compute classification accuracies. Most models in `sklearn` implement a `predict_proba()` method which returns the probabilities for each class. For instance, if your test set consists of `N` datapoints and there are `K` classes, the method will return a `N` x `K` matrix."
   ]
  },
  {
   "cell_type": "markdown",
   "metadata": {},
   "source": [
    "We provide you with three new data sets: a training set (`train_images_partB.csv`), a validation set (`valid_images_partB.csv`), and a test set (`test_images_partB.csv`). You must use the former two for training and evaluating your models (as you see fit). Once you have chosen your favourite model (and pre-processing steps) you should apply it to the test set (for which no labels are provided). Estimate the posterior proabilities for the data points in the test set and submit your results as part of your answer. Your results will be evaluated in terms of the logarithmic loss metric. You also need to submit a brief description of the approaches you considered, your suggested final approach, and a short explanation of why you chose it. The thoroughness of the exploration and the quality of the resulting discussion is just as important as the final score of your chosen method(s) and credit will be divided accordingly.\n",
    "\n",
    "*Hint: Feature engineering, feature combination, model combination and model parameter optimization can significantly improve performance.*"
   ]
  },
  {
   "cell_type": "markdown",
   "metadata": {},
   "source": [
    "**How to submit your results**: Store the estimated probabilities for the data points in the test set in a 2D numpy array. Then execute the provided cell at the end of this notebook which uses a provided `save_predictions` function to export your results into a `.txt` file (the function will return an error if the provided array has not the right shape). The `.txt` file will be saved where your notebook lives. Submit this file along with your notebook as detailed at the top of this file."
   ]
  },
  {
   "cell_type": "markdown",
   "metadata": {},
   "source": [
    "*Your answer goes here (max. 600 words)*\n",
    "\n"
   ]
  },
  {
   "cell_type": "code",
   "execution_count": 240,
   "metadata": {
    "collapsed": true
   },
   "outputs": [],
   "source": [
    "dataPath1 = os.path.join(os.getcwd(),'datasets','train_images_partB.csv')\n",
    "dataPath2 = os.path.join(os.getcwd(),'datasets','valid_images_partB.csv')\n",
    "dataPath3 = os.path.join(os.getcwd(),'datasets','test_images_partB.csv')\n",
    "train_B = pd.read_csv(dataPath1)\n",
    "valid_B = pd.read_csv(dataPath2)\n",
    "test_B = pd.read_csv(dataPath3)"
   ]
  },
  {
   "cell_type": "code",
   "execution_count": 241,
   "metadata": {},
   "outputs": [
    {
     "data": {
      "text/html": [
       "<div>\n",
       "<style>\n",
       "    .dataframe thead tr:only-child th {\n",
       "        text-align: right;\n",
       "    }\n",
       "\n",
       "    .dataframe thead th {\n",
       "        text-align: left;\n",
       "    }\n",
       "\n",
       "    .dataframe tbody tr th {\n",
       "        vertical-align: top;\n",
       "    }\n",
       "</style>\n",
       "<table border=\"1\" class=\"dataframe\">\n",
       "  <thead>\n",
       "    <tr style=\"text-align: right;\">\n",
       "      <th></th>\n",
       "      <th>dim1</th>\n",
       "      <th>dim2</th>\n",
       "      <th>dim3</th>\n",
       "      <th>dim4</th>\n",
       "      <th>dim5</th>\n",
       "      <th>dim6</th>\n",
       "      <th>dim7</th>\n",
       "      <th>dim8</th>\n",
       "      <th>dim9</th>\n",
       "      <th>dim10</th>\n",
       "      <th>...</th>\n",
       "      <th>is_cow</th>\n",
       "      <th>is_diningtable</th>\n",
       "      <th>is_dog</th>\n",
       "      <th>is_horse</th>\n",
       "      <th>is_motorbike</th>\n",
       "      <th>is_person</th>\n",
       "      <th>is_pottedplant</th>\n",
       "      <th>is_sheep</th>\n",
       "      <th>is_sofa</th>\n",
       "      <th>is_tvmonitor</th>\n",
       "    </tr>\n",
       "  </thead>\n",
       "  <tbody>\n",
       "    <tr>\n",
       "      <th>count</th>\n",
       "      <td>2113.000000</td>\n",
       "      <td>2113.000000</td>\n",
       "      <td>2113.000000</td>\n",
       "      <td>2113.000000</td>\n",
       "      <td>2113.000000</td>\n",
       "      <td>2113.000000</td>\n",
       "      <td>2113.000000</td>\n",
       "      <td>2113.000000</td>\n",
       "      <td>2113.000000</td>\n",
       "      <td>2113.000000</td>\n",
       "      <td>...</td>\n",
       "      <td>2113.000000</td>\n",
       "      <td>2113.000000</td>\n",
       "      <td>2113.000000</td>\n",
       "      <td>2113.000000</td>\n",
       "      <td>2113.000000</td>\n",
       "      <td>2113.000000</td>\n",
       "      <td>2113.000000</td>\n",
       "      <td>2113.000000</td>\n",
       "      <td>2113.000000</td>\n",
       "      <td>2113.000000</td>\n",
       "    </tr>\n",
       "    <tr>\n",
       "      <th>mean</th>\n",
       "      <td>0.043353</td>\n",
       "      <td>0.050830</td>\n",
       "      <td>0.047988</td>\n",
       "      <td>0.037411</td>\n",
       "      <td>0.043365</td>\n",
       "      <td>0.049670</td>\n",
       "      <td>0.051071</td>\n",
       "      <td>0.043601</td>\n",
       "      <td>0.052698</td>\n",
       "      <td>0.054139</td>\n",
       "      <td>...</td>\n",
       "      <td>0.017511</td>\n",
       "      <td>0.025083</td>\n",
       "      <td>0.088027</td>\n",
       "      <td>0.045433</td>\n",
       "      <td>0.048273</td>\n",
       "      <td>0.448178</td>\n",
       "      <td>0.040227</td>\n",
       "      <td>0.015144</td>\n",
       "      <td>0.032655</td>\n",
       "      <td>0.050639</td>\n",
       "    </tr>\n",
       "    <tr>\n",
       "      <th>std</th>\n",
       "      <td>0.513260</td>\n",
       "      <td>0.582839</td>\n",
       "      <td>0.482166</td>\n",
       "      <td>0.464611</td>\n",
       "      <td>0.491187</td>\n",
       "      <td>0.558422</td>\n",
       "      <td>0.577599</td>\n",
       "      <td>0.472706</td>\n",
       "      <td>0.571629</td>\n",
       "      <td>0.588484</td>\n",
       "      <td>...</td>\n",
       "      <td>0.131195</td>\n",
       "      <td>0.156414</td>\n",
       "      <td>0.283401</td>\n",
       "      <td>0.208301</td>\n",
       "      <td>0.214392</td>\n",
       "      <td>0.497425</td>\n",
       "      <td>0.196538</td>\n",
       "      <td>0.122156</td>\n",
       "      <td>0.177774</td>\n",
       "      <td>0.219311</td>\n",
       "    </tr>\n",
       "    <tr>\n",
       "      <th>min</th>\n",
       "      <td>0.000000</td>\n",
       "      <td>0.000000</td>\n",
       "      <td>0.000000</td>\n",
       "      <td>0.000000</td>\n",
       "      <td>0.000000</td>\n",
       "      <td>0.000000</td>\n",
       "      <td>0.000000</td>\n",
       "      <td>0.000000</td>\n",
       "      <td>0.000000</td>\n",
       "      <td>0.000000</td>\n",
       "      <td>...</td>\n",
       "      <td>0.000000</td>\n",
       "      <td>0.000000</td>\n",
       "      <td>0.000000</td>\n",
       "      <td>0.000000</td>\n",
       "      <td>0.000000</td>\n",
       "      <td>0.000000</td>\n",
       "      <td>0.000000</td>\n",
       "      <td>0.000000</td>\n",
       "      <td>0.000000</td>\n",
       "      <td>0.000000</td>\n",
       "    </tr>\n",
       "    <tr>\n",
       "      <th>25%</th>\n",
       "      <td>0.000868</td>\n",
       "      <td>0.000000</td>\n",
       "      <td>0.001359</td>\n",
       "      <td>0.000781</td>\n",
       "      <td>0.001116</td>\n",
       "      <td>0.001019</td>\n",
       "      <td>0.000340</td>\n",
       "      <td>0.000651</td>\n",
       "      <td>0.000756</td>\n",
       "      <td>0.001116</td>\n",
       "      <td>...</td>\n",
       "      <td>0.000000</td>\n",
       "      <td>0.000000</td>\n",
       "      <td>0.000000</td>\n",
       "      <td>0.000000</td>\n",
       "      <td>0.000000</td>\n",
       "      <td>0.000000</td>\n",
       "      <td>0.000000</td>\n",
       "      <td>0.000000</td>\n",
       "      <td>0.000000</td>\n",
       "      <td>0.000000</td>\n",
       "    </tr>\n",
       "    <tr>\n",
       "      <th>50%</th>\n",
       "      <td>0.001616</td>\n",
       "      <td>0.000340</td>\n",
       "      <td>0.003516</td>\n",
       "      <td>0.001698</td>\n",
       "      <td>0.002038</td>\n",
       "      <td>0.001860</td>\n",
       "      <td>0.000756</td>\n",
       "      <td>0.001645</td>\n",
       "      <td>0.001698</td>\n",
       "      <td>0.002155</td>\n",
       "      <td>...</td>\n",
       "      <td>0.000000</td>\n",
       "      <td>0.000000</td>\n",
       "      <td>0.000000</td>\n",
       "      <td>0.000000</td>\n",
       "      <td>0.000000</td>\n",
       "      <td>0.000000</td>\n",
       "      <td>0.000000</td>\n",
       "      <td>0.000000</td>\n",
       "      <td>0.000000</td>\n",
       "      <td>0.000000</td>\n",
       "    </tr>\n",
       "    <tr>\n",
       "      <th>75%</th>\n",
       "      <td>0.002404</td>\n",
       "      <td>0.001008</td>\n",
       "      <td>0.006454</td>\n",
       "      <td>0.002717</td>\n",
       "      <td>0.003125</td>\n",
       "      <td>0.003057</td>\n",
       "      <td>0.001488</td>\n",
       "      <td>0.003397</td>\n",
       "      <td>0.002734</td>\n",
       "      <td>0.003736</td>\n",
       "      <td>...</td>\n",
       "      <td>0.000000</td>\n",
       "      <td>0.000000</td>\n",
       "      <td>0.000000</td>\n",
       "      <td>0.000000</td>\n",
       "      <td>0.000000</td>\n",
       "      <td>1.000000</td>\n",
       "      <td>0.000000</td>\n",
       "      <td>0.000000</td>\n",
       "      <td>0.000000</td>\n",
       "      <td>0.000000</td>\n",
       "    </tr>\n",
       "    <tr>\n",
       "      <th>max</th>\n",
       "      <td>9.984000</td>\n",
       "      <td>9.122238</td>\n",
       "      <td>7.676800</td>\n",
       "      <td>9.695738</td>\n",
       "      <td>8.762671</td>\n",
       "      <td>9.489078</td>\n",
       "      <td>9.751526</td>\n",
       "      <td>8.691076</td>\n",
       "      <td>9.013933</td>\n",
       "      <td>9.602705</td>\n",
       "      <td>...</td>\n",
       "      <td>1.000000</td>\n",
       "      <td>1.000000</td>\n",
       "      <td>1.000000</td>\n",
       "      <td>1.000000</td>\n",
       "      <td>1.000000</td>\n",
       "      <td>1.000000</td>\n",
       "      <td>1.000000</td>\n",
       "      <td>1.000000</td>\n",
       "      <td>1.000000</td>\n",
       "      <td>1.000000</td>\n",
       "    </tr>\n",
       "  </tbody>\n",
       "</table>\n",
       "<p>8 rows × 519 columns</p>\n",
       "</div>"
      ],
      "text/plain": [
       "              dim1         dim2         dim3         dim4         dim5  \\\n",
       "count  2113.000000  2113.000000  2113.000000  2113.000000  2113.000000   \n",
       "mean      0.043353     0.050830     0.047988     0.037411     0.043365   \n",
       "std       0.513260     0.582839     0.482166     0.464611     0.491187   \n",
       "min       0.000000     0.000000     0.000000     0.000000     0.000000   \n",
       "25%       0.000868     0.000000     0.001359     0.000781     0.001116   \n",
       "50%       0.001616     0.000340     0.003516     0.001698     0.002038   \n",
       "75%       0.002404     0.001008     0.006454     0.002717     0.003125   \n",
       "max       9.984000     9.122238     7.676800     9.695738     8.762671   \n",
       "\n",
       "              dim6         dim7         dim8         dim9        dim10  \\\n",
       "count  2113.000000  2113.000000  2113.000000  2113.000000  2113.000000   \n",
       "mean      0.049670     0.051071     0.043601     0.052698     0.054139   \n",
       "std       0.558422     0.577599     0.472706     0.571629     0.588484   \n",
       "min       0.000000     0.000000     0.000000     0.000000     0.000000   \n",
       "25%       0.001019     0.000340     0.000651     0.000756     0.001116   \n",
       "50%       0.001860     0.000756     0.001645     0.001698     0.002155   \n",
       "75%       0.003057     0.001488     0.003397     0.002734     0.003736   \n",
       "max       9.489078     9.751526     8.691076     9.013933     9.602705   \n",
       "\n",
       "           ...            is_cow  is_diningtable       is_dog     is_horse  \\\n",
       "count      ...       2113.000000     2113.000000  2113.000000  2113.000000   \n",
       "mean       ...          0.017511        0.025083     0.088027     0.045433   \n",
       "std        ...          0.131195        0.156414     0.283401     0.208301   \n",
       "min        ...          0.000000        0.000000     0.000000     0.000000   \n",
       "25%        ...          0.000000        0.000000     0.000000     0.000000   \n",
       "50%        ...          0.000000        0.000000     0.000000     0.000000   \n",
       "75%        ...          0.000000        0.000000     0.000000     0.000000   \n",
       "max        ...          1.000000        1.000000     1.000000     1.000000   \n",
       "\n",
       "       is_motorbike    is_person  is_pottedplant     is_sheep      is_sofa  \\\n",
       "count   2113.000000  2113.000000     2113.000000  2113.000000  2113.000000   \n",
       "mean       0.048273     0.448178        0.040227     0.015144     0.032655   \n",
       "std        0.214392     0.497425        0.196538     0.122156     0.177774   \n",
       "min        0.000000     0.000000        0.000000     0.000000     0.000000   \n",
       "25%        0.000000     0.000000        0.000000     0.000000     0.000000   \n",
       "50%        0.000000     0.000000        0.000000     0.000000     0.000000   \n",
       "75%        0.000000     1.000000        0.000000     0.000000     0.000000   \n",
       "max        1.000000     1.000000        1.000000     1.000000     1.000000   \n",
       "\n",
       "       is_tvmonitor  \n",
       "count   2113.000000  \n",
       "mean       0.050639  \n",
       "std        0.219311  \n",
       "min        0.000000  \n",
       "25%        0.000000  \n",
       "50%        0.000000  \n",
       "75%        0.000000  \n",
       "max        1.000000  \n",
       "\n",
       "[8 rows x 519 columns]"
      ]
     },
     "execution_count": 241,
     "metadata": {},
     "output_type": "execute_result"
    }
   ],
   "source": [
    "train_B.describe()"
   ]
  },
  {
   "cell_type": "markdown",
   "metadata": {},
   "source": [
    "##### Notice, the max row above and contrast it with mean. clearly, the data has outliers. Removing outliers now:"
   ]
  },
  {
   "cell_type": "code",
   "execution_count": 242,
   "metadata": {},
   "outputs": [
    {
     "name": "stdout",
     "output_type": "stream",
     "text": [
      "Shape of uncleaned set: (2113, 520)\n",
      "Shape of cleaned set: (2093, 500)\n",
      "Rows removed: 20\n"
     ]
    }
   ],
   "source": [
    "attributes = train_B.columns.tolist()[1:-19]\n",
    "train_B_clean = train_B.copy()[attributes]\n",
    "\n",
    "train_B_clean = train_B_clean[np.abs(train_B_clean-train_B_clean.mean())<=(3*train_B_clean.std())] #keep only the ones that are within +3 to -3 standard deviations in the column 'Data'.\n",
    "clean = train_B_clean.values # numpy array for easy iteration\n",
    "row_num_outlier = []\n",
    "for row in range(2113):     \n",
    "    for column in range(500):\n",
    "        if np.isnan(clean[row, column]):  \n",
    "            row_num_outlier.append(row)\n",
    "            \n",
    "row_num_outlier = list(set(row_num_outlier)) \n",
    "train_B_clean.drop(row_num_outlier, inplace = True, axis=0)\n",
    "\n",
    "print('Shape of uncleaned set: {}'.format(train_B.shape))\n",
    "print('Shape of cleaned set: {}'.format(train_B_clean.shape))\n",
    "print('Rows removed: {}'.format(train_B.shape[0]-train_B_clean.shape[0]))"
   ]
  },
  {
   "cell_type": "code",
   "execution_count": 243,
   "metadata": {},
   "outputs": [],
   "source": [
    "# Populating X and y for train  and validation set\n",
    "# Removing image id and class attributes from X and setting y appropriately.\n",
    "\n",
    "X_train = train_B_clean[attributes]\n",
    "y_train = train_B.drop(row_num_outlier, inplace = False, axis=0)['is_person']\n",
    "X_valid = valid_B[attributes]\n",
    "y_valid = valid_B['is_person']\n",
    "\n",
    "# Standardising data using StandardScaler\n",
    "# as it was clear from previous questions that this\n",
    "# will improve classification\n",
    "stc = StandardScaler()\n",
    "stc.fit(X_train)\n",
    "X_train_std = stc.transform(X_train)\n",
    "X_valid_std = stc.transform(X_valid)"
   ]
  },
  {
   "cell_type": "code",
   "execution_count": 244,
   "metadata": {
    "collapsed": true
   },
   "outputs": [],
   "source": [
    "# Similarly for test set\n",
    "finalTest_X = test_B.drop('is_person',axis=1)\n",
    "finalTest_X_std = stc.transform(finalTest_X)"
   ]
  },
  {
   "cell_type": "markdown",
   "metadata": {},
   "source": [
    "Plan - \n",
    "1. Try RandomForestClassifier , Logistic Regression and SVC. \n",
    "2. Then find best configuration for each using grid search cv\n",
    "3. try to use voting classifier to see if performance can be improved"
   ]
  },
  {
   "cell_type": "code",
   "execution_count": 252,
   "metadata": {},
   "outputs": [
    {
     "name": "stdout",
     "output_type": "stream",
     "text": [
      "Random forest classifier: (score,log loss) 0.693 , 0.58566\n",
      "Logistic regression classifier: (score,log loss) 0.643 , 0.83540\n",
      "SVC classifier: (score,log loss) 0.730 , 0.54188\n"
     ]
    }
   ],
   "source": [
    "g1 = RandomForestClassifier(random_state=0,n_estimators=500)\n",
    "g1.fit(X_train_std,y_train)\n",
    "ppg = g1.predict_proba(X_valid_std)\n",
    "print('Random forest classifier: (score,log loss) {:.3f} , {:.5f}'.format(g1.score(X_valid_std,y_valid),\n",
    "                                                                          log_loss(y_valid,ppg)))\n",
    "\n",
    "g2 = LogisticRegression(solver='lbfgs')\n",
    "g2.fit(X_train_std,y_train)\n",
    "ppg2 = g2.predict_proba(X_valid_std)\n",
    "print('Logistic regression classifier: (score,log loss) {:.3f} , {:.5f}'.format(g2.score(X_valid_std,y_valid),\n",
    "                                                                          log_loss(y_valid,ppg2)))\n",
    "\n",
    "g3 = SVC(kernel='rbf', probability=True)\n",
    "g3.fit(X_train_std,y_train)\n",
    "ppg3 = g3.predict_proba(X_valid_std)\n",
    "print('SVC classifier: (score,log loss) {:.3f} , {:.5f}'.format(g3.score(X_valid_std,y_valid),\n",
    "                                                                          log_loss(y_valid,ppg3)))"
   ]
  },
  {
   "cell_type": "markdown",
   "metadata": {},
   "source": [
    "#### Initial values above will be used for comparison when trying to optimise parameters"
   ]
  },
  {
   "cell_type": "markdown",
   "metadata": {},
   "source": [
    "Now, using grid search to find the best configuration for each:"
   ]
  },
  {
   "cell_type": "code",
   "execution_count": 36,
   "metadata": {
    "collapsed": true
   },
   "outputs": [],
   "source": [
    "from sklearn.model_selection import GridSearchCV"
   ]
  },
  {
   "cell_type": "markdown",
   "metadata": {},
   "source": [
    "## Optimising Random forest"
   ]
  },
  {
   "cell_type": "code",
   "execution_count": 253,
   "metadata": {
    "collapsed": true
   },
   "outputs": [],
   "source": [
    "clf = RandomForestClassifier(n_estimators=250,random_state=0)\n",
    "\n",
    "param_grid = {\"max_depth\": [None, 5],\n",
    "              \"max_features\": ['auto','log2'],\n",
    "              \"bootstrap\": [True, False],\n",
    "              \"criterion\": [\"gini\", \"entropy\"]}\n",
    "\n",
    "grid_search = GridSearchCV(clf, param_grid=param_grid,scoring='neg_log_loss') #   Use default 3 fold cross validation\n",
    "grid_search.fit(X_train_std, y_train)\n",
    "pass\n"
   ]
  },
  {
   "cell_type": "code",
   "execution_count": 254,
   "metadata": {},
   "outputs": [
    {
     "data": {
      "text/html": [
       "<div>\n",
       "<style>\n",
       "    .dataframe thead tr:only-child th {\n",
       "        text-align: right;\n",
       "    }\n",
       "\n",
       "    .dataframe thead th {\n",
       "        text-align: left;\n",
       "    }\n",
       "\n",
       "    .dataframe tbody tr th {\n",
       "        vertical-align: top;\n",
       "    }\n",
       "</style>\n",
       "<table border=\"1\" class=\"dataframe\">\n",
       "  <thead>\n",
       "    <tr style=\"text-align: right;\">\n",
       "      <th></th>\n",
       "      <th>mean_fit_time</th>\n",
       "      <th>mean_score_time</th>\n",
       "      <th>mean_test_score</th>\n",
       "      <th>mean_train_score</th>\n",
       "      <th>param_bootstrap</th>\n",
       "      <th>param_criterion</th>\n",
       "      <th>param_max_depth</th>\n",
       "      <th>param_max_features</th>\n",
       "      <th>params</th>\n",
       "      <th>rank_test_score</th>\n",
       "      <th>split0_test_score</th>\n",
       "      <th>split0_train_score</th>\n",
       "      <th>split1_test_score</th>\n",
       "      <th>split1_train_score</th>\n",
       "      <th>split2_test_score</th>\n",
       "      <th>split2_train_score</th>\n",
       "      <th>std_fit_time</th>\n",
       "      <th>std_score_time</th>\n",
       "      <th>std_test_score</th>\n",
       "      <th>std_train_score</th>\n",
       "    </tr>\n",
       "  </thead>\n",
       "  <tbody>\n",
       "    <tr>\n",
       "      <th>8</th>\n",
       "      <td>3.733721</td>\n",
       "      <td>0.041843</td>\n",
       "      <td>-0.583277</td>\n",
       "      <td>-9.992007e-16</td>\n",
       "      <td>False</td>\n",
       "      <td>gini</td>\n",
       "      <td>None</td>\n",
       "      <td>auto</td>\n",
       "      <td>{u'max_features': u'auto', u'bootstrap': False...</td>\n",
       "      <td>2</td>\n",
       "      <td>-0.578805</td>\n",
       "      <td>-9.992007e-16</td>\n",
       "      <td>-0.565715</td>\n",
       "      <td>-9.992007e-16</td>\n",
       "      <td>-0.605324</td>\n",
       "      <td>-9.992007e-16</td>\n",
       "      <td>0.032150</td>\n",
       "      <td>0.001362</td>\n",
       "      <td>0.016470</td>\n",
       "      <td>0.0</td>\n",
       "    </tr>\n",
       "    <tr>\n",
       "      <th>12</th>\n",
       "      <td>6.662349</td>\n",
       "      <td>0.039672</td>\n",
       "      <td>-0.583214</td>\n",
       "      <td>-9.992007e-16</td>\n",
       "      <td>False</td>\n",
       "      <td>entropy</td>\n",
       "      <td>None</td>\n",
       "      <td>auto</td>\n",
       "      <td>{u'max_features': u'auto', u'bootstrap': False...</td>\n",
       "      <td>1</td>\n",
       "      <td>-0.578356</td>\n",
       "      <td>-9.992007e-16</td>\n",
       "      <td>-0.567278</td>\n",
       "      <td>-9.992007e-16</td>\n",
       "      <td>-0.604021</td>\n",
       "      <td>-9.992007e-16</td>\n",
       "      <td>0.069270</td>\n",
       "      <td>0.000515</td>\n",
       "      <td>0.015382</td>\n",
       "      <td>0.0</td>\n",
       "    </tr>\n",
       "    <tr>\n",
       "      <th>13</th>\n",
       "      <td>3.021123</td>\n",
       "      <td>0.041585</td>\n",
       "      <td>-0.588047</td>\n",
       "      <td>-9.992007e-16</td>\n",
       "      <td>False</td>\n",
       "      <td>entropy</td>\n",
       "      <td>None</td>\n",
       "      <td>log2</td>\n",
       "      <td>{u'max_features': u'log2', u'bootstrap': False...</td>\n",
       "      <td>3</td>\n",
       "      <td>-0.585092</td>\n",
       "      <td>-9.992007e-16</td>\n",
       "      <td>-0.570327</td>\n",
       "      <td>-9.992007e-16</td>\n",
       "      <td>-0.608731</td>\n",
       "      <td>-9.992007e-16</td>\n",
       "      <td>0.038332</td>\n",
       "      <td>0.000227</td>\n",
       "      <td>0.015810</td>\n",
       "      <td>0.0</td>\n",
       "    </tr>\n",
       "  </tbody>\n",
       "</table>\n",
       "</div>"
      ],
      "text/plain": [
       "    mean_fit_time  mean_score_time  mean_test_score  mean_train_score  \\\n",
       "8        3.733721         0.041843        -0.583277     -9.992007e-16   \n",
       "12       6.662349         0.039672        -0.583214     -9.992007e-16   \n",
       "13       3.021123         0.041585        -0.588047     -9.992007e-16   \n",
       "\n",
       "   param_bootstrap param_criterion param_max_depth param_max_features  \\\n",
       "8            False            gini            None               auto   \n",
       "12           False         entropy            None               auto   \n",
       "13           False         entropy            None               log2   \n",
       "\n",
       "                                               params  rank_test_score  \\\n",
       "8   {u'max_features': u'auto', u'bootstrap': False...                2   \n",
       "12  {u'max_features': u'auto', u'bootstrap': False...                1   \n",
       "13  {u'max_features': u'log2', u'bootstrap': False...                3   \n",
       "\n",
       "    split0_test_score  split0_train_score  split1_test_score  \\\n",
       "8           -0.578805       -9.992007e-16          -0.565715   \n",
       "12          -0.578356       -9.992007e-16          -0.567278   \n",
       "13          -0.585092       -9.992007e-16          -0.570327   \n",
       "\n",
       "    split1_train_score  split2_test_score  split2_train_score  std_fit_time  \\\n",
       "8        -9.992007e-16          -0.605324       -9.992007e-16      0.032150   \n",
       "12       -9.992007e-16          -0.604021       -9.992007e-16      0.069270   \n",
       "13       -9.992007e-16          -0.608731       -9.992007e-16      0.038332   \n",
       "\n",
       "    std_score_time  std_test_score  std_train_score  \n",
       "8         0.001362        0.016470              0.0  \n",
       "12        0.000515        0.015382              0.0  \n",
       "13        0.000227        0.015810              0.0  "
      ]
     },
     "execution_count": 254,
     "metadata": {},
     "output_type": "execute_result"
    }
   ],
   "source": [
    "df = pd.DataFrame.from_dict(grid_search.cv_results_) \n",
    "df[df['rank_test_score']<4]   # Show top 3 only"
   ]
  },
  {
   "cell_type": "code",
   "execution_count": 255,
   "metadata": {},
   "outputs": [
    {
     "name": "stdout",
     "output_type": "stream",
     "text": [
      "Optimal random forest classifier has a log loss = 0.579032164225.\n",
      "Score with this classifier = 0.702.\n"
     ]
    }
   ],
   "source": [
    "rf = RandomForestClassifier(random_state=0,n_estimators=500,bootstrap=False,criterion='entropy',max_depth=None,max_features='auto')\n",
    "rf.fit(X_train_std, y_train)\n",
    "pp = rf.predict_proba(X_valid_std)\n",
    "print('Optimal random forest classifier has a log loss = {}.'.format(log_loss(y_valid,pp)))\n",
    "print('Score with this classifier = {:.3f}.'.format(rf.score(X_valid_std,y_valid)))"
   ]
  },
  {
   "cell_type": "markdown",
   "metadata": {},
   "source": [
    "Previous results: score = 0.693 log loss = 0.585 . Optimal settings give a slightly better result. Both score and Log Loss have improved slightly."
   ]
  },
  {
   "cell_type": "markdown",
   "metadata": {},
   "source": [
    "## Optimising Logistic Regressor"
   ]
  },
  {
   "cell_type": "code",
   "execution_count": 259,
   "metadata": {
    "collapsed": true
   },
   "outputs": [],
   "source": [
    "clf2 = LogisticRegression(solver='lbfgs',class_weight=None, dual=False, fit_intercept=True,\n",
    "          intercept_scaling=1, max_iter=100, multi_class='ovr', n_jobs=1,\n",
    "          random_state=0, tol=0.0001,\n",
    "          verbose=0, warm_start=False)\n",
    "\n",
    "param_grid2 = {'C': np.logspace(-6,8,20) }\n",
    "              \n",
    "\n",
    "grid_search2 = GridSearchCV(clf2, param_grid=param_grid2,scoring='neg_log_loss') # Use default 3 fold cross validation\n",
    "grid_search2.fit(X_train_std, y_train)\n",
    "pass"
   ]
  },
  {
   "cell_type": "code",
   "execution_count": 260,
   "metadata": {},
   "outputs": [
    {
     "data": {
      "text/html": [
       "<div>\n",
       "<style>\n",
       "    .dataframe thead tr:only-child th {\n",
       "        text-align: right;\n",
       "    }\n",
       "\n",
       "    .dataframe thead th {\n",
       "        text-align: left;\n",
       "    }\n",
       "\n",
       "    .dataframe tbody tr th {\n",
       "        vertical-align: top;\n",
       "    }\n",
       "</style>\n",
       "<table border=\"1\" class=\"dataframe\">\n",
       "  <thead>\n",
       "    <tr style=\"text-align: right;\">\n",
       "      <th></th>\n",
       "      <th>mean_fit_time</th>\n",
       "      <th>mean_score_time</th>\n",
       "      <th>mean_test_score</th>\n",
       "      <th>mean_train_score</th>\n",
       "      <th>param_C</th>\n",
       "      <th>params</th>\n",
       "      <th>rank_test_score</th>\n",
       "      <th>split0_test_score</th>\n",
       "      <th>split0_train_score</th>\n",
       "      <th>split1_test_score</th>\n",
       "      <th>split1_train_score</th>\n",
       "      <th>split2_test_score</th>\n",
       "      <th>split2_train_score</th>\n",
       "      <th>std_fit_time</th>\n",
       "      <th>std_score_time</th>\n",
       "      <th>std_test_score</th>\n",
       "      <th>std_train_score</th>\n",
       "    </tr>\n",
       "  </thead>\n",
       "  <tbody>\n",
       "    <tr>\n",
       "      <th>3</th>\n",
       "      <td>0.015022</td>\n",
       "      <td>0.001386</td>\n",
       "      <td>-0.618412</td>\n",
       "      <td>-0.600149</td>\n",
       "      <td>0.000162378</td>\n",
       "      <td>{u'C': 0.000162377673919}</td>\n",
       "      <td>3</td>\n",
       "      <td>-0.616263</td>\n",
       "      <td>-0.601917</td>\n",
       "      <td>-0.605473</td>\n",
       "      <td>-0.609437</td>\n",
       "      <td>-0.633507</td>\n",
       "      <td>-0.589093</td>\n",
       "      <td>0.000414</td>\n",
       "      <td>0.000004</td>\n",
       "      <td>0.011540</td>\n",
       "      <td>0.008399</td>\n",
       "    </tr>\n",
       "    <tr>\n",
       "      <th>4</th>\n",
       "      <td>0.020322</td>\n",
       "      <td>0.001435</td>\n",
       "      <td>-0.589707</td>\n",
       "      <td>-0.537430</td>\n",
       "      <td>0.000885867</td>\n",
       "      <td>{u'C': 0.00088586679041}</td>\n",
       "      <td>1</td>\n",
       "      <td>-0.590792</td>\n",
       "      <td>-0.536210</td>\n",
       "      <td>-0.561652</td>\n",
       "      <td>-0.552773</td>\n",
       "      <td>-0.616675</td>\n",
       "      <td>-0.523309</td>\n",
       "      <td>0.000702</td>\n",
       "      <td>0.000065</td>\n",
       "      <td>0.022466</td>\n",
       "      <td>0.012060</td>\n",
       "    </tr>\n",
       "    <tr>\n",
       "      <th>5</th>\n",
       "      <td>0.042376</td>\n",
       "      <td>0.001379</td>\n",
       "      <td>-0.592496</td>\n",
       "      <td>-0.453728</td>\n",
       "      <td>0.00483293</td>\n",
       "      <td>{u'C': 0.00483293023857}</td>\n",
       "      <td>2</td>\n",
       "      <td>-0.603804</td>\n",
       "      <td>-0.450649</td>\n",
       "      <td>-0.540884</td>\n",
       "      <td>-0.474064</td>\n",
       "      <td>-0.632767</td>\n",
       "      <td>-0.436473</td>\n",
       "      <td>0.009764</td>\n",
       "      <td>0.000021</td>\n",
       "      <td>0.038339</td>\n",
       "      <td>0.015500</td>\n",
       "    </tr>\n",
       "  </tbody>\n",
       "</table>\n",
       "</div>"
      ],
      "text/plain": [
       "   mean_fit_time  mean_score_time  mean_test_score  mean_train_score  \\\n",
       "3       0.015022         0.001386        -0.618412         -0.600149   \n",
       "4       0.020322         0.001435        -0.589707         -0.537430   \n",
       "5       0.042376         0.001379        -0.592496         -0.453728   \n",
       "\n",
       "       param_C                     params  rank_test_score  split0_test_score  \\\n",
       "3  0.000162378  {u'C': 0.000162377673919}                3          -0.616263   \n",
       "4  0.000885867   {u'C': 0.00088586679041}                1          -0.590792   \n",
       "5   0.00483293   {u'C': 0.00483293023857}                2          -0.603804   \n",
       "\n",
       "   split0_train_score  split1_test_score  split1_train_score  \\\n",
       "3           -0.601917          -0.605473           -0.609437   \n",
       "4           -0.536210          -0.561652           -0.552773   \n",
       "5           -0.450649          -0.540884           -0.474064   \n",
       "\n",
       "   split2_test_score  split2_train_score  std_fit_time  std_score_time  \\\n",
       "3          -0.633507           -0.589093      0.000414        0.000004   \n",
       "4          -0.616675           -0.523309      0.000702        0.000065   \n",
       "5          -0.632767           -0.436473      0.009764        0.000021   \n",
       "\n",
       "   std_test_score  std_train_score  \n",
       "3        0.011540         0.008399  \n",
       "4        0.022466         0.012060  \n",
       "5        0.038339         0.015500  "
      ]
     },
     "execution_count": 260,
     "metadata": {},
     "output_type": "execute_result"
    }
   ],
   "source": [
    "df2 = pd.DataFrame.from_dict(grid_search2.cv_results_) \n",
    "df2[df2['rank_test_score']<4]   # Show top 3 only"
   ]
  },
  {
   "cell_type": "code",
   "execution_count": 261,
   "metadata": {},
   "outputs": [
    {
     "name": "stdout",
     "output_type": "stream",
     "text": [
      "Optimal Logistic regression classifier with C = 0.00088586679041 has a log loss = 0.583355583408.\n",
      "Score with this classifier = 0.698.\n"
     ]
    }
   ],
   "source": [
    "# using best found configuration\n",
    "opt_c = df2[df2['rank_test_score'] == 1]['param_C'].real[0]\n",
    "lr = LogisticRegression(solver='lbfgs',C=opt_c)\n",
    "lr.fit(X_train_std, y_train)\n",
    "pp2 = lr.predict_proba(X_valid_std)\n",
    "print('Optimal Logistic regression classifier with C = {} has a log loss = {}.'.format(opt_c,log_loss(y_valid,pp2)))\n",
    "print('Score with this classifier = {:.3f}.'.format(lr.score(X_valid_std,y_valid)))"
   ]
  },
  {
   "cell_type": "markdown",
   "metadata": {},
   "source": [
    "Scores from before: score 0.643 log loss = 0.835 . Both log loss and score have improved.\n",
    "\n",
    "Now working on SVC. From lab 2, we know log loss shouldn't be used to evaluate performance fror SVC. Still finding best configuration for score and log loss."
   ]
  },
  {
   "cell_type": "markdown",
   "metadata": {},
   "source": [
    "## Optimising SVC"
   ]
  },
  {
   "cell_type": "code",
   "execution_count": 262,
   "metadata": {
    "collapsed": true
   },
   "outputs": [],
   "source": [
    "clf3 = SVC(kernel='rbf')\n",
    "\n",
    "param_grid3 = {\"C\": np.logspace(-2,2,5),\n",
    "              \"gamma\": np.logspace(-4,0,5)}\n",
    "# scoring is socre instead of neg_log_loss\n",
    "grid_search3 = GridSearchCV(clf3, param_grid=param_grid3) #   Use default 3 fold cross validation\n",
    "grid_search3.fit(X_train_std, y_train)\n",
    "pass\n"
   ]
  },
  {
   "cell_type": "code",
   "execution_count": 263,
   "metadata": {},
   "outputs": [
    {
     "data": {
      "text/html": [
       "<div>\n",
       "<style>\n",
       "    .dataframe thead tr:only-child th {\n",
       "        text-align: right;\n",
       "    }\n",
       "\n",
       "    .dataframe thead th {\n",
       "        text-align: left;\n",
       "    }\n",
       "\n",
       "    .dataframe tbody tr th {\n",
       "        vertical-align: top;\n",
       "    }\n",
       "</style>\n",
       "<table border=\"1\" class=\"dataframe\">\n",
       "  <thead>\n",
       "    <tr style=\"text-align: right;\">\n",
       "      <th></th>\n",
       "      <th>mean_fit_time</th>\n",
       "      <th>mean_score_time</th>\n",
       "      <th>mean_test_score</th>\n",
       "      <th>mean_train_score</th>\n",
       "      <th>param_C</th>\n",
       "      <th>param_gamma</th>\n",
       "      <th>params</th>\n",
       "      <th>rank_test_score</th>\n",
       "      <th>split0_test_score</th>\n",
       "      <th>split0_train_score</th>\n",
       "      <th>split1_test_score</th>\n",
       "      <th>split1_train_score</th>\n",
       "      <th>split2_test_score</th>\n",
       "      <th>split2_train_score</th>\n",
       "      <th>std_fit_time</th>\n",
       "      <th>std_score_time</th>\n",
       "      <th>std_test_score</th>\n",
       "      <th>std_train_score</th>\n",
       "    </tr>\n",
       "  </thead>\n",
       "  <tbody>\n",
       "    <tr>\n",
       "      <th>11</th>\n",
       "      <td>0.973141</td>\n",
       "      <td>0.458938</td>\n",
       "      <td>0.711897</td>\n",
       "      <td>0.841618</td>\n",
       "      <td>1</td>\n",
       "      <td>0.001</td>\n",
       "      <td>{u'C': 1.0, u'gamma': 0.001}</td>\n",
       "      <td>1</td>\n",
       "      <td>0.715308</td>\n",
       "      <td>0.847920</td>\n",
       "      <td>0.738881</td>\n",
       "      <td>0.834527</td>\n",
       "      <td>0.681492</td>\n",
       "      <td>0.842407</td>\n",
       "      <td>0.019876</td>\n",
       "      <td>0.011459</td>\n",
       "      <td>0.023542</td>\n",
       "      <td>0.005496</td>\n",
       "    </tr>\n",
       "    <tr>\n",
       "      <th>15</th>\n",
       "      <td>0.920097</td>\n",
       "      <td>0.421654</td>\n",
       "      <td>0.698519</td>\n",
       "      <td>0.812949</td>\n",
       "      <td>10</td>\n",
       "      <td>0.0001</td>\n",
       "      <td>{u'C': 10.0, u'gamma': 0.0001}</td>\n",
       "      <td>2</td>\n",
       "      <td>0.695279</td>\n",
       "      <td>0.814921</td>\n",
       "      <td>0.733142</td>\n",
       "      <td>0.800860</td>\n",
       "      <td>0.667145</td>\n",
       "      <td>0.823066</td>\n",
       "      <td>0.023108</td>\n",
       "      <td>0.009188</td>\n",
       "      <td>0.027028</td>\n",
       "      <td>0.009172</td>\n",
       "    </tr>\n",
       "    <tr>\n",
       "      <th>16</th>\n",
       "      <td>1.197528</td>\n",
       "      <td>0.467117</td>\n",
       "      <td>0.683708</td>\n",
       "      <td>0.999283</td>\n",
       "      <td>10</td>\n",
       "      <td>0.001</td>\n",
       "      <td>{u'C': 10.0, u'gamma': 0.001}</td>\n",
       "      <td>3</td>\n",
       "      <td>0.679542</td>\n",
       "      <td>0.998565</td>\n",
       "      <td>0.718795</td>\n",
       "      <td>1.000000</td>\n",
       "      <td>0.652798</td>\n",
       "      <td>0.999284</td>\n",
       "      <td>0.008836</td>\n",
       "      <td>0.008260</td>\n",
       "      <td>0.027091</td>\n",
       "      <td>0.000586</td>\n",
       "    </tr>\n",
       "  </tbody>\n",
       "</table>\n",
       "</div>"
      ],
      "text/plain": [
       "    mean_fit_time  mean_score_time  mean_test_score  mean_train_score param_C  \\\n",
       "11       0.973141         0.458938         0.711897          0.841618       1   \n",
       "15       0.920097         0.421654         0.698519          0.812949      10   \n",
       "16       1.197528         0.467117         0.683708          0.999283      10   \n",
       "\n",
       "   param_gamma                          params  rank_test_score  \\\n",
       "11       0.001    {u'C': 1.0, u'gamma': 0.001}                1   \n",
       "15      0.0001  {u'C': 10.0, u'gamma': 0.0001}                2   \n",
       "16       0.001   {u'C': 10.0, u'gamma': 0.001}                3   \n",
       "\n",
       "    split0_test_score  split0_train_score  split1_test_score  \\\n",
       "11           0.715308            0.847920           0.738881   \n",
       "15           0.695279            0.814921           0.733142   \n",
       "16           0.679542            0.998565           0.718795   \n",
       "\n",
       "    split1_train_score  split2_test_score  split2_train_score  std_fit_time  \\\n",
       "11            0.834527           0.681492            0.842407      0.019876   \n",
       "15            0.800860           0.667145            0.823066      0.023108   \n",
       "16            1.000000           0.652798            0.999284      0.008836   \n",
       "\n",
       "    std_score_time  std_test_score  std_train_score  \n",
       "11        0.011459        0.023542         0.005496  \n",
       "15        0.009188        0.027028         0.009172  \n",
       "16        0.008260        0.027091         0.000586  "
      ]
     },
     "execution_count": 263,
     "metadata": {},
     "output_type": "execute_result"
    }
   ],
   "source": [
    "df3 = pd.DataFrame.from_dict(grid_search3.cv_results_) \n",
    "df3[df3['rank_test_score']<4]   # Show top 3 only"
   ]
  },
  {
   "cell_type": "code",
   "execution_count": 279,
   "metadata": {},
   "outputs": [
    {
     "name": "stdout",
     "output_type": "stream",
     "text": [
      "Optimal SVC with C = 1.0, gamma = 0.001 has a log loss = 0.549305780372.\n",
      "Score with this classifier = 0.721.\n"
     ]
    }
   ],
   "source": [
    "opt_c2 = df3[df3['rank_test_score'] == 1]['param_C'].real[0]\n",
    "opt_gamma = df3[df3['rank_test_score'] == 1]['param_gamma'].real[0]\n",
    "svc = SVC(kernel='rbf',C=opt_c2,gamma=opt_gamma,probability=True)\n",
    "svc.fit(X_train_std, y_train)\n",
    "pp3 = svc.predict_proba(X_valid_std)\n",
    "print('Optimal SVC with C = {}, gamma = {} has a log loss = {}.'.format(opt_c2,opt_gamma,\n",
    "                                                                        log_loss(y_valid,pp3)))\n",
    "print('Score with this classifier = {:.3f}.'.format(svc.score(X_valid_std,y_valid)))"
   ]
  },
  {
   "cell_type": "markdown",
   "metadata": {},
   "source": [
    "Surprisingly, log loss is very good and scoring dips a little."
   ]
  },
  {
   "cell_type": "markdown",
   "metadata": {},
   "source": [
    "## Results from above"
   ]
  },
  {
   "cell_type": "markdown",
   "metadata": {},
   "source": [
    "*Results till now from above*\n",
    "\n",
    "    Optimal random forest classifier has a log loss = 0.579.\n",
    "    Score with this classifier = 0.702.\n",
    "\n",
    "    Optimal Logistic regression classifier with C = 0.00088586679041 has a log loss = 0.583.\n",
    "    Score with this classifier = 0.698.\n",
    "\n",
    "    Optimal SVC with C = 1.0, gamma = 0.001 has a log loss = 0.549.\n",
    "    Score with this classifier = 0.721.\n",
    "\n",
    "\n",
    "\n",
    "NEXT -- Try using these classifiers together to preict.\n"
   ]
  },
  {
   "cell_type": "markdown",
   "metadata": {},
   "source": [
    "## Voting classifier"
   ]
  },
  {
   "cell_type": "code",
   "execution_count": 270,
   "metadata": {
    "collapsed": true
   },
   "outputs": [],
   "source": [
    "from sklearn.ensemble import VotingClassifier"
   ]
  },
  {
   "cell_type": "markdown",
   "metadata": {},
   "source": [
    "#### SVC and Random forest (name: vc)"
   ]
  },
  {
   "cell_type": "code",
   "execution_count": 278,
   "metadata": {},
   "outputs": [
    {
     "name": "stdout",
     "output_type": "stream",
     "text": [
      "Score: 0.714285714286\tLog Loss: 0.555312728075\n"
     ]
    }
   ],
   "source": [
    "estimators1 = [('svc',SVC(kernel='rbf',C=opt_c2,gamma=opt_gamma,probability=True)),\n",
    "               ('rf',RandomForestClassifier(random_state=0,n_estimators=500,bootstrap=False,criterion='entropy',\n",
    "                                     max_depth=None,max_features='auto'))]\n",
    "\n",
    "vc = VotingClassifier(estimators=estimators1,voting='soft',weights=[1,1])\n",
    "vc.fit(X_train_std,y_train.as_matrix())\n",
    "vcp = vc.predict_proba(X_valid_std)\n",
    "print('Score: {}\\tLog Loss: {}'.format(vc.score(X_valid_std,y_valid),log_loss(y_valid,vcp)))"
   ]
  },
  {
   "cell_type": "markdown",
   "metadata": {},
   "source": [
    "#### Using Logistic Regressor, Random forest and SVC (name: vc2)"
   ]
  },
  {
   "cell_type": "code",
   "execution_count": 273,
   "metadata": {},
   "outputs": [
    {
     "name": "stdout",
     "output_type": "stream",
     "text": [
      "Score: 0.714285714286\tLog Loss: 0.562846135631\n"
     ]
    }
   ],
   "source": [
    "estimators2 = [('lr',LogisticRegression(solver='lbfgs',C=opt_c,random_state=0)),\n",
    "               ('rf',RandomForestClassifier(random_state=0,n_estimators=500,bootstrap=False,criterion='entropy',\n",
    "                                     max_depth=None,max_features='auto')),\n",
    "               ('svc',SVC(kernel='rbf',C=opt_c2,gamma=opt_gamma,probability=True))]\n",
    "\n",
    "vc2 = VotingClassifier(estimators=estimators2,voting='hard',weights=[1,1,1])\n",
    "vc2.fit(X_train_std,y_train.as_matrix())\n",
    "vcp2 = vc2.predict_proba(X_valid_std)\n",
    "print('Score: {}\\tLog Loss: {}'.format(vc2.score(X_valid_std,y_valid),log_loss(y_valid,vcp2)))"
   ]
  },
  {
   "cell_type": "markdown",
   "metadata": {},
   "source": [
    "#### Using Logistic Regressor and SVC (name: vc3)"
   ]
  },
  {
   "cell_type": "code",
   "execution_count": 274,
   "metadata": {},
   "outputs": [
    {
     "name": "stdout",
     "output_type": "stream",
     "text": [
      "Score: 0.715184186882\tLog Loss: 0.562717298311\n"
     ]
    }
   ],
   "source": [
    "estimators3 = [('lr',LogisticRegression(solver='lbfgs',C=opt_c,random_state=0)),\n",
    "               ('rf',RandomForestClassifier(random_state=0,n_estimators=500,bootstrap=False,criterion='entropy',\n",
    "                                     max_depth=None,max_features='auto')),('svc2',SVC(kernel='rbf',C=opt_c3,gamma=opt_gamma2,probability=True))]\n",
    "\n",
    "vc3 = VotingClassifier(estimators=estimators3,voting='hard',weights=[1,1,1])\n",
    "vc3.fit(X_train_std,y_train.as_matrix())\n",
    "vcp3 = vc3.predict_proba(X_valid_std)\n",
    "print('Score: {}\\tLog Loss: {}'.format(vc3.score(X_valid_std,y_valid),log_loss(y_valid,vcp3)))"
   ]
  },
  {
   "cell_type": "markdown",
   "metadata": {},
   "source": [
    "#### Logistic Regressor and random Forest (name: vc4)"
   ]
  },
  {
   "cell_type": "code",
   "execution_count": 276,
   "metadata": {},
   "outputs": [
    {
     "name": "stdout",
     "output_type": "stream",
     "text": [
      "Score: 0.70530098832\tLog Loss: 0.576995581624\n"
     ]
    }
   ],
   "source": [
    "estimators4 = [('lr',LogisticRegression(solver='lbfgs',C=opt_c,random_state=0)),\n",
    "               ('rf',RandomForestClassifier(random_state=0,n_estimators=500,bootstrap=False,criterion='entropy',\n",
    "                                     max_depth=None,max_features='auto'))]\n",
    "\n",
    "vc4 = VotingClassifier(estimators=estimators4,voting='hard',weights=[1,1])\n",
    "vc4.fit(X_train_std,y_train.as_matrix())\n",
    "vcp4 = vc4.predict_proba(X_valid_std)\n",
    "print('Score: {}\\tLog Loss: {}'.format(vc4.score(X_valid_std,y_valid),log_loss(y_valid,vcp4)))"
   ]
  },
  {
   "cell_type": "markdown",
   "metadata": {},
   "source": [
    "### Final performence and saving output file"
   ]
  },
  {
   "cell_type": "markdown",
   "metadata": {},
   "source": [
    "#### The performance has been such:\n",
    "\n",
    "Code for soft vote has been ommited to reduce clutter.\n",
    "    \n",
    "##### vc\n",
    "\n",
    "Score: Score: 0.714285714286\tLog Loss: 0.555312728075\n",
    "\n",
    "##### vc2\n",
    "\n",
    "Score 0.714285714286\tLog Loss: 0.562846135631\n",
    "\n",
    "##### vc3\n",
    "\n",
    "Score: Score: 0.715184186882\tLog Loss: 0.562717298311\n",
    "\n",
    "##### vc4\n",
    "\n",
    "scoreScore:0.70530098832\tLog Loss: 0.576995581624\n",
    "\n"
   ]
  },
  {
   "cell_type": "markdown",
   "metadata": {},
   "source": [
    "## Conclusion\n",
    "\n",
    "Effort to use voting classifier failed. However, when I started, I forgot to clean the data and trained with the outliers present. Then, voting classifier was really helping as I was getting almost 0.70 score and 0.59 log loss even when training with outliers! \n",
    "\n",
    "Since, SVC with optimal settings is giving the best result. I'll be using that."
   ]
  },
  {
   "cell_type": "code",
   "execution_count": 280,
   "metadata": {
    "collapsed": true
   },
   "outputs": [],
   "source": [
    "svc = SVC(kernel='rbf',C=opt_c2,gamma=opt_gamma,probability=True)\n",
    "svc.fit(X_train_std, y_train)\n",
    "final_prob = svc.predict_proba(finalTest_X_std)"
   ]
  },
  {
   "cell_type": "code",
   "execution_count": 281,
   "metadata": {
    "collapsed": true
   },
   "outputs": [],
   "source": [
    "# Execute this cell to export your results\n",
    "from numpy import savetxt\n",
    "def save_predictions(pred_proba):\n",
    "    if pred_proba.shape != (1114,2):\n",
    "        raise ValueError('Predicted probabilities array is not the right shape.')\n",
    "    \n",
    "    savetxt('assignment_3_predictions.txt', pred_proba)\n",
    "\n",
    "# You need to replace \"test_images_partB_pred_proba\"\n",
    "# with the name of the array which contains the probability \n",
    "# estimates for the data in the test set.\n",
    "save_predictions(final_prob) "
   ]
  },
  {
   "cell_type": "markdown",
   "metadata": {
    "collapsed": true
   },
   "source": [
    "# Appendix"
   ]
  },
  {
   "cell_type": "markdown",
   "metadata": {},
   "source": [
    "## More information about visual words"
   ]
  },
  {
   "cell_type": "markdown",
   "metadata": {},
   "source": [
    "Visual words are based on [Scale-invariant feature transforms (SIFT)](https://en.wikipedia.org/wiki/Scale-invariant_feature_transform). SIFT features are essentially local orientation histograms and capture the properties of small image regions. They possess attractive invariance properties which make them well suited for our task (you can read more about SIFT features in [D.Lowe, IJCV 60(2):91- 110, 2004](http://link.springer.com/article/10.1023/B:VISI.0000029664.99615.94), but the details don't matter for the purpose of this assignment). Each SIFT feature is a 128 dimensional vector. From each image many SIFT features are extracted, typically > 2500 per image (features are extracted at regular intervals using a 15 pixel grid and at 4 different scales). To obtain visual words a representative subset of all extracted SIFT features from all images is chosen and clustered with k-means using 500 centres (such use of the k-means algorithm will be discussed in detail during the lecture). These 500 cluster centres form our visual words. The representation of a single image is obtained by first assigning each SIFT feature extracted from the image to the appropriate cluster (i.e. we determine the visual word corresponding to each feature by picking the closest cluster centre). We then count the number of features from that image assigned to each cluster (i.e. we determine how often each visual word is present in the image). This results in a 500 dimensional count vector for each image (one dimension for each visual word). The normalized version of this count vector gives the final representation of the image (normalized means that we divide the count vector by the total number of visual words in the image, i.e. the normalized counts sum to 1 for each image)"
   ]
  }
 ],
 "metadata": {
  "anaconda-cloud": {},
  "kernelspec": {
   "display_name": "Python 2",
   "language": "python",
   "name": "python2"
  },
  "language_info": {
   "codemirror_mode": {
    "name": "ipython",
    "version": 2
   },
   "file_extension": ".py",
   "mimetype": "text/x-python",
   "name": "python",
   "nbconvert_exporter": "python",
   "pygments_lexer": "ipython2",
   "version": "2.7.13"
  }
 },
 "nbformat": 4,
 "nbformat_minor": 1
}
